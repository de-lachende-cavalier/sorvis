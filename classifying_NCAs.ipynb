{
 "cells": [
  {
   "cell_type": "markdown",
   "metadata": {},
   "source": [
    "# Self-classifying Neural Cellular Automata (for Quick! Draw data)."
   ]
  },
  {
   "cell_type": "markdown",
   "metadata": {},
   "source": [
    "This notebook contains a version of the [code](https://github.com/google-research/self-organising-systems/blob/master/notebooks/mnist_ca.ipynb) related to the Distill article on [Self-classifying MNIST Digits](https://distill.pub/2020/selforg/mnist/) and adapted for the [Quick! Draw](https://quickdraw.withgoogle.com/data) dataset.\n",
    "\n",
    "This notebook is the \"main\" code of the project."
   ]
  },
  {
   "cell_type": "markdown",
   "metadata": {},
   "source": [
    "## Imports"
   ]
  },
  {
   "cell_type": "code",
   "execution_count": 12,
   "metadata": {},
   "outputs": [],
   "source": [
    "import io\n",
    "import PIL.Image, PIL.ImageDraw\n",
    "import base64\n",
    "import numpy as np\n",
    "import matplotlib.pylab as pl\n",
    "\n",
    "import tensorflow as tf\n",
    "from tensorflow.keras.layers import Conv2D\n",
    "\n",
    "from IPython.display import Image, clear_output"
   ]
  },
  {
   "cell_type": "code",
   "execution_count": 2,
   "metadata": {},
   "outputs": [],
   "source": [
    "clear_output()"
   ]
  },
  {
   "cell_type": "markdown",
   "metadata": {},
   "source": [
    "## Image manipulation utilities"
   ]
  },
  {
   "cell_type": "code",
   "execution_count": 4,
   "metadata": {},
   "outputs": [],
   "source": [
    "def np2pil(a):\n",
    "  if a.dtype in [np.float32, np.float64]:\n",
    "    a = np.uint8(np.clip(a, 0, 1)*255)\n",
    "  return PIL.Image.fromarray(a)\n",
    "\n",
    "def imwrite(f, a, fmt=None):\n",
    "  a = np.asarray(a)\n",
    "  if isinstance(f, str):\n",
    "    fmt = f.rsplit('.', 1)[-1].lower()\n",
    "    if fmt == 'jpg':\n",
    "      fmt = 'jpeg'\n",
    "    f = open(f, 'wb')\n",
    "  np2pil(a).save(f, fmt, quality=95)\n",
    "\n",
    "def imencode(a, fmt='jpeg'):\n",
    "  a = np.asarray(a)\n",
    "  f = io.BytesIO()\n",
    "  imwrite(f, a, fmt)\n",
    "  return f.getvalue()\n",
    "\n",
    "def im2url(a, fmt='jpeg'):\n",
    "  encoded = imencode(a, fmt)\n",
    "  base64_byte_string = base64.b64encode(encoded).decode('ascii')\n",
    "  return 'data:image/' + fmt.upper() + ';base64,' + base64_byte_string\n",
    "\n",
    "def imshow(a, fmt='jpeg'):\n",
    "  display(Image(data=imencode(a, fmt)))\n",
    "\n",
    "def tile2d(a, w=None):\n",
    "  a = np.asarray(a)\n",
    "\n",
    "  if w is None:\n",
    "    w = int(np.ceil(np.sqrt(len(a))))\n",
    "\n",
    "  th, tw = a.shape[1:3]\n",
    "  pad = (w - len(a)) % w\n",
    "  a = np.pad(a, [(0, pad)] + [(0, 0)] * (a.ndim - 1), 'constant')\n",
    "  h = len(a) // w\n",
    "\n",
    "  a = a.reshape([h, w] + list(a.shape[1:]))\n",
    "  a = np.rollaxis(a, 2, 1).reshape([th * h, tw * w])\n",
    "  return a\n",
    "\n",
    "def zoom(img, scale=4):\n",
    "  img = np.repeat(img, scale, 0)\n",
    "  img = np.repeat(img, scale, 1)\n",
    "  return img"
   ]
  },
  {
   "cell_type": "markdown",
   "metadata": {},
   "source": [
    "## Model "
   ]
  },
  {
   "cell_type": "markdown",
   "metadata": {},
   "source": [
    "### Utilities and hyperparameters"
   ]
  },
  {
   "cell_type": "code",
   "execution_count": 5,
   "metadata": {},
   "outputs": [],
   "source": [
    "CHANNEL_N = 19 # number of CA state channels\n",
    "BATCH_SIZE = 16\n",
    "POOL_SIZE = BATCH_SIZE * 10\n",
    "CELL_FIRE_RATE = 0.5\n",
    "\n",
    "ADD_NOISE = True"
   ]
  },
  {
   "cell_type": "markdown",
   "metadata": {},
   "source": [
    "### Model definition"
   ]
  },
  {
   "cell_type": "code",
   "execution_count": 6,
   "metadata": {},
   "outputs": [],
   "source": [
    "class CAModel(tf.keras.Model):\n",
    "  def __init__(self, channel_n=CHANNEL_N, fire_rate=CELL_FIRE_RATE,\n",
    "               add_noise=ADD_NOISE):\n",
    "    # CHANNEL_N does not include the greyscale channel, but it does include the 10 possible outputs.\n",
    "    super().__init__()\n",
    "    self.channel_n = channel_n\n",
    "    self.fire_rate = fire_rate\n",
    "    self.add_noise = add_noise\n",
    "\n",
    "    # unlike in the growing CA case, we make the kernels learnable!\n",
    "    self.perceive = tf.keras.Sequential([\n",
    "          Conv2D(80, 3, activation=tf.nn.relu, padding=\"SAME\"),\n",
    "      ])\n",
    "\n",
    "    self.dmodel = tf.keras.Sequential([\n",
    "          Conv2D(80, 1, activation=tf.nn.relu),\n",
    "          Conv2D(self.channel_n, 1, activation=None,\n",
    "                       kernel_initializer=tf.zeros_initializer),\n",
    "    ])\n",
    "\n",
    "    self(tf.zeros([1, 3, 3, channel_n + 1]))  # dummy calls to build the model\n",
    "\n",
    "  @tf.function\n",
    "  def call(self, x, fire_rate=None, manual_noise=None):\n",
    "    gray, state = tf.split(x, [1, self.channel_n], -1)\n",
    "    ds = self.dmodel(self.perceive(x))\n",
    "    if self.add_noise:\n",
    "      if manual_noise is None:\n",
    "        residual_noise = tf.random.normal(tf.shape(ds), 0., 0.02)\n",
    "      else:\n",
    "        residual_noise = manual_noise\n",
    "      ds += residual_noise\n",
    "\n",
    "    if fire_rate is None:\n",
    "      fire_rate = self.fire_rate\n",
    "    update_mask = tf.random.uniform(tf.shape(x[:, :, :, :1])) <= fire_rate\n",
    "    living_mask = gray > 0.1\n",
    "    residual_mask = update_mask & living_mask\n",
    "    ds *= tf.cast(residual_mask, tf.float32)\n",
    "    state += ds\n",
    "    \n",
    "    return tf.concat([gray, state], -1)\n",
    "\n",
    "  # TODO the functions below will surely need modifications to work with quickdraw\n",
    "  @tf.function\n",
    "  def initialize(self, images):\n",
    "    state = tf.zeros([tf.shape(images)[0], 28, 28, self.channel_n])\n",
    "    images = tf.reshape(images, [-1, 28, 28, 1])\n",
    "    return tf.concat([images, state], -1)\n",
    "\n",
    "  @tf.function\n",
    "  def classify(self, x):\n",
    "    # The last 10 layers are the classification predictions, one channel\n",
    "    # per class. Keep in mind there is no \"background\" class,\n",
    "    # and that any loss doesn't propagate to \"dead\" pixels.\n",
    "    return x[:,:,:,-10:]"
   ]
  },
  {
   "cell_type": "code",
   "execution_count": 7,
   "metadata": {},
   "outputs": [
    {
     "name": "stderr",
     "output_type": "stream",
     "text": [
      "2023-08-15 15:16:56.889535: I metal_plugin/src/device/metal_device.cc:1154] Metal device set to: Apple M1 Pro\n",
      "2023-08-15 15:16:56.889568: I metal_plugin/src/device/metal_device.cc:296] systemMemory: 16.00 GB\n",
      "2023-08-15 15:16:56.889577: I metal_plugin/src/device/metal_device.cc:313] maxCacheSize: 5.33 GB\n",
      "2023-08-15 15:16:56.890060: I tensorflow/core/common_runtime/pluggable_device/pluggable_device_factory.cc:303] Could not identify NUMA node of platform GPU ID 0, defaulting to 0. Your kernel may not have been built with NUMA support.\n",
      "2023-08-15 15:16:56.890399: I tensorflow/core/common_runtime/pluggable_device/pluggable_device_factory.cc:269] Created TensorFlow device (/job:localhost/replica:0/task:0/device:GPU:0 with 0 MB memory) -> physical PluggableDevice (device: 0, name: METAL, pci bus id: <undefined>)\n"
     ]
    },
    {
     "name": "stdout",
     "output_type": "stream",
     "text": [
      "Model: \"sequential\"\n",
      "_________________________________________________________________\n",
      " Layer (type)                Output Shape              Param #   \n",
      "=================================================================\n",
      " conv2d (Conv2D)             (1, 3, 3, 80)             14480     \n",
      "                                                                 \n",
      "=================================================================\n",
      "Total params: 14480 (56.56 KB)\n",
      "Trainable params: 14480 (56.56 KB)\n",
      "Non-trainable params: 0 (0.00 Byte)\n",
      "_________________________________________________________________\n"
     ]
    },
    {
     "name": "stderr",
     "output_type": "stream",
     "text": [
      "2023-08-15 15:16:57.133846: I tensorflow/core/grappler/optimizers/custom_graph_optimizer_registry.cc:114] Plugin optimizer for device_type GPU is enabled.\n"
     ]
    }
   ],
   "source": [
    "CAModel().perceive.summary()"
   ]
  },
  {
   "cell_type": "code",
   "execution_count": 8,
   "metadata": {},
   "outputs": [
    {
     "name": "stdout",
     "output_type": "stream",
     "text": [
      "Model: \"sequential_3\"\n",
      "_________________________________________________________________\n",
      " Layer (type)                Output Shape              Param #   \n",
      "=================================================================\n",
      " conv2d_4 (Conv2D)           (1, 3, 3, 80)             6480      \n",
      "                                                                 \n",
      " conv2d_5 (Conv2D)           (1, 3, 3, 19)             1539      \n",
      "                                                                 \n",
      "=================================================================\n",
      "Total params: 8019 (31.32 KB)\n",
      "Trainable params: 8019 (31.32 KB)\n",
      "Non-trainable params: 0 (0.00 Byte)\n",
      "_________________________________________________________________\n"
     ]
    },
    {
     "name": "stderr",
     "output_type": "stream",
     "text": [
      "2023-08-15 15:16:57.992240: I tensorflow/core/grappler/optimizers/custom_graph_optimizer_registry.cc:114] Plugin optimizer for device_type GPU is enabled.\n"
     ]
    }
   ],
   "source": [
    "CAModel().dmodel.summary()"
   ]
  },
  {
   "cell_type": "markdown",
   "metadata": {},
   "source": [
    "## Training"
   ]
  },
  {
   "cell_type": "markdown",
   "metadata": {},
   "source": [
    "### Training preparation"
   ]
  },
  {
   "cell_type": "code",
   "execution_count": 9,
   "metadata": {},
   "outputs": [],
   "source": [
    "class SamplePool:\n",
    "  def __init__(self, *, _parent=None, _parent_idx=None, **slots):\n",
    "    self._parent = _parent\n",
    "    self._parent_idx = _parent_idx\n",
    "    self._slot_names = slots.keys()\n",
    "    self._size = None\n",
    "    for k, v in slots.items():\n",
    "      if self._size is None:\n",
    "        self._size = len(v)\n",
    "      assert self._size == len(v)\n",
    "      setattr(self, k, np.asarray(v))\n",
    "\n",
    "  def sample(self, n):\n",
    "    idx = np.random.choice(self._size, n, False)\n",
    "    batch = {k: getattr(self, k)[idx] for k in self._slot_names}\n",
    "    batch = SamplePool(**batch, _parent=self, _parent_idx=idx)\n",
    "    return batch\n",
    "\n",
    "  def commit(self):\n",
    "    for k in self._slot_names:\n",
    "      getattr(self._parent, k)[self._parent_idx] = getattr(self, k)"
   ]
  },
  {
   "cell_type": "code",
   "execution_count": 10,
   "metadata": {},
   "outputs": [],
   "source": [
    "# TODO maybe add generate_tiled_figures?\n",
    "def generate_pool_figures(pool, step_i):\n",
    "  tiled_pool = tile2d(pool.x[:49, :, :, :1])\n",
    "  ones = np.ones(72)\n",
    "  tiled_pool[:, :72] += (-tiled_pool[:, :72] + ones[None, :])\n",
    "  tiled_pool[:, -72:] += (-tiled_pool[:, -72:] + ones[None, :])\n",
    "  tiled_pool[:72, :] += (-tiled_pool[:72, :] + ones[:, None])\n",
    "  tiled_pool[-72:, :] += (-tiled_pool[-72:, :] + ones[:, None])\n",
    "  imwrite('train_log/%04d_pool.jpg' % step_i, tiled_pool)\n",
    "\n",
    "def visualize_batch(x0, x, step_i):\n",
    "  vis0 = np.hstack(x0[..., :1])\n",
    "  vis1 = np.hstack(x[..., :1])\n",
    "  vis = np.vstack([vis0, vis1])\n",
    "  vis = np.squeeze(vis, axis=-1) # for imwrite and imshow\n",
    "  imwrite('train_log/batches_%04d.jpg' % step_i, vis)\n",
    "  print('batch (before/after):')\n",
    "  imshow(vis)\n",
    "\n",
    "# TODO probably need to modify this function\n",
    "def individual_l2_loss(model, x, y):\n",
    "  t = y - model.classify(x)\n",
    "  return tf.reduce_sum(t**2, [1, 2, 3]) / 2\n",
    "\n",
    "def batch_l2_loss(model, x, y):\n",
    "  return tf.reduce_mean(individual_l2_loss(model, x, y))\n",
    "\n",
    "def plot_loss(loss_log):\n",
    "  pl.figure(figsize=(10, 4))\n",
    "  pl.title('Loss history (log10)')\n",
    "  pl.plot(np.log10(loss_log), '.', alpha=0.5)\n",
    "  pl.show()"
   ]
  },
  {
   "cell_type": "code",
   "execution_count": 14,
   "metadata": {},
   "outputs": [],
   "source": [
    "# TODO maybe add evaluation (later)?"
   ]
  },
  {
   "cell_type": "code",
   "execution_count": 14,
   "metadata": {},
   "outputs": [
    {
     "ename": "TypeError",
     "evalue": "Failed to construct dataset quickdraw_bitmap: DatasetBuilder.__init__() got an unexpected keyword argument 'classes'",
     "output_type": "error",
     "traceback": [
      "\u001b[0;31m---------------------------------------------------------------------------\u001b[0m",
      "\u001b[0;31mTypeError\u001b[0m                                 Traceback (most recent call last)",
      "Cell \u001b[0;32mIn[14], line 4\u001b[0m\n\u001b[1;32m      1\u001b[0m \u001b[39m# TODO code to get the data!\u001b[39;00m\n\u001b[1;32m      2\u001b[0m desired_classes \u001b[39m=\u001b[39m [\u001b[39m'\u001b[39m\u001b[39mcat\u001b[39m\u001b[39m'\u001b[39m, \u001b[39m'\u001b[39m\u001b[39mdog\u001b[39m\u001b[39m'\u001b[39m] \n\u001b[0;32m----> 4\u001b[0m dataset, info \u001b[39m=\u001b[39m tfds\u001b[39m.\u001b[39;49mload(\n\u001b[1;32m      5\u001b[0m     \u001b[39m'\u001b[39;49m\u001b[39mquickdraw_bitmap\u001b[39;49m\u001b[39m'\u001b[39;49m,\n\u001b[1;32m      6\u001b[0m     with_info\u001b[39m=\u001b[39;49m\u001b[39mTrue\u001b[39;49;00m,\n\u001b[1;32m      7\u001b[0m     builder_kwargs\u001b[39m=\u001b[39;49m{\u001b[39m'\u001b[39;49m\u001b[39mclasses\u001b[39;49m\u001b[39m'\u001b[39;49m: desired_classes}\n\u001b[1;32m      8\u001b[0m )\n",
      "File \u001b[0;32m~/Desktop/uni/vision/project/lib/python3.11/site-packages/tensorflow_datasets/core/logging/__init__.py:169\u001b[0m, in \u001b[0;36m_FunctionDecorator.__call__\u001b[0;34m(self, function, instance, args, kwargs)\u001b[0m\n\u001b[1;32m    167\u001b[0m metadata \u001b[39m=\u001b[39m \u001b[39mself\u001b[39m\u001b[39m.\u001b[39m_start_call()\n\u001b[1;32m    168\u001b[0m \u001b[39mtry\u001b[39;00m:\n\u001b[0;32m--> 169\u001b[0m   \u001b[39mreturn\u001b[39;00m function(\u001b[39m*\u001b[39;49margs, \u001b[39m*\u001b[39;49m\u001b[39m*\u001b[39;49mkwargs)\n\u001b[1;32m    170\u001b[0m \u001b[39mexcept\u001b[39;00m \u001b[39mException\u001b[39;00m:\n\u001b[1;32m    171\u001b[0m   metadata\u001b[39m.\u001b[39mmark_error()\n",
      "File \u001b[0;32m~/Desktop/uni/vision/project/lib/python3.11/site-packages/tensorflow_datasets/core/load.py:634\u001b[0m, in \u001b[0;36mload\u001b[0;34m(name, split, data_dir, batch_size, shuffle_files, download, as_supervised, decoders, read_config, with_info, builder_kwargs, download_and_prepare_kwargs, as_dataset_kwargs, try_gcs)\u001b[0m\n\u001b[1;32m    502\u001b[0m \u001b[39m@tfds_logging\u001b[39m\u001b[39m.\u001b[39mload()\n\u001b[1;32m    503\u001b[0m \u001b[39mdef\u001b[39;00m \u001b[39mload\u001b[39m(\n\u001b[1;32m    504\u001b[0m     name: \u001b[39mstr\u001b[39m,\n\u001b[0;32m   (...)\u001b[0m\n\u001b[1;32m    519\u001b[0m ):\n\u001b[1;32m    520\u001b[0m   \u001b[39m# pylint: disable=line-too-long\u001b[39;00m\n\u001b[1;32m    521\u001b[0m \u001b[39m  \u001b[39m\u001b[39m\"\"\"Loads the named dataset into a `tf.data.Dataset`.\u001b[39;00m\n\u001b[1;32m    522\u001b[0m \n\u001b[1;32m    523\u001b[0m \u001b[39m  `tfds.load` is a convenience method that:\u001b[39;00m\n\u001b[0;32m   (...)\u001b[0m\n\u001b[1;32m    632\u001b[0m \u001b[39m      Split-specific information is available in `ds_info.splits`.\u001b[39;00m\n\u001b[1;32m    633\u001b[0m \u001b[39m  \"\"\"\u001b[39;00m\n\u001b[0;32m--> 634\u001b[0m   dbuilder \u001b[39m=\u001b[39m _fetch_builder(\n\u001b[1;32m    635\u001b[0m       name,\n\u001b[1;32m    636\u001b[0m       data_dir,\n\u001b[1;32m    637\u001b[0m       builder_kwargs,\n\u001b[1;32m    638\u001b[0m       try_gcs,\n\u001b[1;32m    639\u001b[0m   )\n\u001b[1;32m    640\u001b[0m   _download_and_prepare_builder(dbuilder, download, download_and_prepare_kwargs)\n\u001b[1;32m    642\u001b[0m   \u001b[39mif\u001b[39;00m as_dataset_kwargs \u001b[39mis\u001b[39;00m \u001b[39mNone\u001b[39;00m:\n",
      "File \u001b[0;32m~/Desktop/uni/vision/project/lib/python3.11/site-packages/tensorflow_datasets/core/load.py:489\u001b[0m, in \u001b[0;36m_fetch_builder\u001b[0;34m(name, data_dir, builder_kwargs, try_gcs)\u001b[0m\n\u001b[1;32m    486\u001b[0m \u001b[39mif\u001b[39;00m builder_kwargs \u001b[39mis\u001b[39;00m \u001b[39mNone\u001b[39;00m:\n\u001b[1;32m    487\u001b[0m   builder_kwargs \u001b[39m=\u001b[39m {}\n\u001b[0;32m--> 489\u001b[0m \u001b[39mreturn\u001b[39;00m builder(name, data_dir\u001b[39m=\u001b[39;49mdata_dir, try_gcs\u001b[39m=\u001b[39;49mtry_gcs, \u001b[39m*\u001b[39;49m\u001b[39m*\u001b[39;49mbuilder_kwargs)\n",
      "File \u001b[0;32m/opt/homebrew/Cellar/python@3.11/3.11.4_1/Frameworks/Python.framework/Versions/3.11/lib/python3.11/contextlib.py:81\u001b[0m, in \u001b[0;36mContextDecorator.__call__.<locals>.inner\u001b[0;34m(*args, **kwds)\u001b[0m\n\u001b[1;32m     78\u001b[0m \u001b[39m@wraps\u001b[39m(func)\n\u001b[1;32m     79\u001b[0m \u001b[39mdef\u001b[39;00m \u001b[39minner\u001b[39m(\u001b[39m*\u001b[39margs, \u001b[39m*\u001b[39m\u001b[39m*\u001b[39mkwds):\n\u001b[1;32m     80\u001b[0m     \u001b[39mwith\u001b[39;00m \u001b[39mself\u001b[39m\u001b[39m.\u001b[39m_recreate_cm():\n\u001b[0;32m---> 81\u001b[0m         \u001b[39mreturn\u001b[39;00m func(\u001b[39m*\u001b[39;49margs, \u001b[39m*\u001b[39;49m\u001b[39m*\u001b[39;49mkwds)\n",
      "File \u001b[0;32m~/Desktop/uni/vision/project/lib/python3.11/site-packages/tensorflow_datasets/core/logging/__init__.py:169\u001b[0m, in \u001b[0;36m_FunctionDecorator.__call__\u001b[0;34m(self, function, instance, args, kwargs)\u001b[0m\n\u001b[1;32m    167\u001b[0m metadata \u001b[39m=\u001b[39m \u001b[39mself\u001b[39m\u001b[39m.\u001b[39m_start_call()\n\u001b[1;32m    168\u001b[0m \u001b[39mtry\u001b[39;00m:\n\u001b[0;32m--> 169\u001b[0m   \u001b[39mreturn\u001b[39;00m function(\u001b[39m*\u001b[39;49margs, \u001b[39m*\u001b[39;49m\u001b[39m*\u001b[39;49mkwargs)\n\u001b[1;32m    170\u001b[0m \u001b[39mexcept\u001b[39;00m \u001b[39mException\u001b[39;00m:\n\u001b[1;32m    171\u001b[0m   metadata\u001b[39m.\u001b[39mmark_error()\n",
      "File \u001b[0;32m~/Desktop/uni/vision/project/lib/python3.11/site-packages/tensorflow_datasets/core/load.py:212\u001b[0m, in \u001b[0;36mbuilder\u001b[0;34m(name, try_gcs, **builder_kwargs)\u001b[0m\n\u001b[1;32m    210\u001b[0m \u001b[39mif\u001b[39;00m \u001b[39mcls\u001b[39m:\n\u001b[1;32m    211\u001b[0m   \u001b[39mwith\u001b[39;00m py_utils\u001b[39m.\u001b[39mtry_reraise(prefix\u001b[39m=\u001b[39m\u001b[39mf\u001b[39m\u001b[39m'\u001b[39m\u001b[39mFailed to construct dataset \u001b[39m\u001b[39m{\u001b[39;00mname\u001b[39m}\u001b[39;00m\u001b[39m: \u001b[39m\u001b[39m'\u001b[39m):\n\u001b[0;32m--> 212\u001b[0m     \u001b[39mreturn\u001b[39;00m \u001b[39mcls\u001b[39;49m(\u001b[39m*\u001b[39;49m\u001b[39m*\u001b[39;49mbuilder_kwargs)  \u001b[39m# pytype: disable=not-instantiable\u001b[39;00m\n\u001b[1;32m    214\u001b[0m \u001b[39m# If neither the code nor the files are found, raise DatasetNotFoundError\u001b[39;00m\n\u001b[1;32m    215\u001b[0m \u001b[39mraise\u001b[39;00m not_found_error\n",
      "File \u001b[0;32m~/Desktop/uni/vision/project/lib/python3.11/site-packages/tensorflow_datasets/core/logging/__init__.py:288\u001b[0m, in \u001b[0;36mbuilder_init.<locals>.decorator\u001b[0;34m(function, dsbuilder, args, kwargs)\u001b[0m\n\u001b[1;32m    286\u001b[0m _thread_id_to_builder_init_count[metadata\u001b[39m.\u001b[39mthread_id] \u001b[39m+\u001b[39m\u001b[39m=\u001b[39m \u001b[39m1\u001b[39m\n\u001b[1;32m    287\u001b[0m \u001b[39mtry\u001b[39;00m:\n\u001b[0;32m--> 288\u001b[0m   \u001b[39mreturn\u001b[39;00m function(\u001b[39m*\u001b[39;49margs, \u001b[39m*\u001b[39;49m\u001b[39m*\u001b[39;49mkwargs)\n\u001b[1;32m    289\u001b[0m \u001b[39mexcept\u001b[39;00m \u001b[39mException\u001b[39;00m:\n\u001b[1;32m    290\u001b[0m   metadata\u001b[39m.\u001b[39mmark_error()\n",
      "File \u001b[0;32m~/Desktop/uni/vision/project/lib/python3.11/site-packages/tensorflow_datasets/core/dataset_builder.py:1270\u001b[0m, in \u001b[0;36mFileReaderBuilder.__init__\u001b[0;34m(self, file_format, **kwargs)\u001b[0m\n\u001b[1;32m   1253\u001b[0m \u001b[39m@tfds_logging\u001b[39m\u001b[39m.\u001b[39mbuilder_init()\n\u001b[1;32m   1254\u001b[0m \u001b[39mdef\u001b[39;00m \u001b[39m__init__\u001b[39m(\n\u001b[1;32m   1255\u001b[0m     \u001b[39mself\u001b[39m,\n\u001b[0;32m   (...)\u001b[0m\n\u001b[1;32m   1258\u001b[0m     \u001b[39m*\u001b[39m\u001b[39m*\u001b[39mkwargs: Any,\n\u001b[1;32m   1259\u001b[0m ):\n\u001b[1;32m   1260\u001b[0m \u001b[39m  \u001b[39m\u001b[39m\"\"\"Initializes an instance of FileReaderBuilder.\u001b[39;00m\n\u001b[1;32m   1261\u001b[0m \n\u001b[1;32m   1262\u001b[0m \u001b[39m  Callers must pass arguments as keyword arguments.\u001b[39;00m\n\u001b[0;32m   (...)\u001b[0m\n\u001b[1;32m   1268\u001b[0m \u001b[39m    **kwargs: Arguments passed to `DatasetBuilder`.\u001b[39;00m\n\u001b[1;32m   1269\u001b[0m \u001b[39m  \"\"\"\u001b[39;00m\n\u001b[0;32m-> 1270\u001b[0m   \u001b[39msuper\u001b[39;49m()\u001b[39m.\u001b[39;49m\u001b[39m__init__\u001b[39;49m(\u001b[39m*\u001b[39;49m\u001b[39m*\u001b[39;49mkwargs)\n\u001b[1;32m   1271\u001b[0m   \u001b[39mself\u001b[39m\u001b[39m.\u001b[39minfo\u001b[39m.\u001b[39mset_file_format(file_format)\n",
      "File \u001b[0;32m~/Desktop/uni/vision/project/lib/python3.11/site-packages/tensorflow_datasets/core/logging/__init__.py:288\u001b[0m, in \u001b[0;36mbuilder_init.<locals>.decorator\u001b[0;34m(function, dsbuilder, args, kwargs)\u001b[0m\n\u001b[1;32m    286\u001b[0m _thread_id_to_builder_init_count[metadata\u001b[39m.\u001b[39mthread_id] \u001b[39m+\u001b[39m\u001b[39m=\u001b[39m \u001b[39m1\u001b[39m\n\u001b[1;32m    287\u001b[0m \u001b[39mtry\u001b[39;00m:\n\u001b[0;32m--> 288\u001b[0m   \u001b[39mreturn\u001b[39;00m function(\u001b[39m*\u001b[39;49margs, \u001b[39m*\u001b[39;49m\u001b[39m*\u001b[39;49mkwargs)\n\u001b[1;32m    289\u001b[0m \u001b[39mexcept\u001b[39;00m \u001b[39mException\u001b[39;00m:\n\u001b[1;32m    290\u001b[0m   metadata\u001b[39m.\u001b[39mmark_error()\n",
      "\u001b[0;31mTypeError\u001b[0m: Failed to construct dataset quickdraw_bitmap: DatasetBuilder.__init__() got an unexpected keyword argument 'classes'"
     ]
    }
   ],
   "source": [
    "# TODO code to get the data!\n",
    "desired_classes = ['cat', 'dog'] \n",
    "\n",
    "dataset, info = tfds.load(\n",
    "    'quickdraw_bitmap',\n",
    "    with_info=True,\n",
    "    builder_kwargs={'classes': desired_classes}\n",
    ")"
   ]
  },
  {
   "cell_type": "markdown",
   "metadata": {},
   "source": [
    "Let's finally wrap up the preparations, define our model and initialise training!"
   ]
  },
  {
   "cell_type": "code",
   "execution_count": 17,
   "metadata": {},
   "outputs": [
    {
     "name": "stderr",
     "output_type": "stream",
     "text": [
      "2023-08-14 16:05:45.459021: I tensorflow/core/grappler/optimizers/custom_graph_optimizer_registry.cc:114] Plugin optimizer for device_type GPU is enabled.\n"
     ]
    },
    {
     "ename": "NameError",
     "evalue": "name 'x_train' is not defined",
     "output_type": "error",
     "traceback": [
      "\u001b[0;31m---------------------------------------------------------------------------\u001b[0m",
      "\u001b[0;31mNameError\u001b[0m                                 Traceback (most recent call last)",
      "Cell \u001b[0;32mIn[17], line 13\u001b[0m\n\u001b[1;32m      9\u001b[0m lr_sched \u001b[39m=\u001b[39m tf\u001b[39m.\u001b[39mkeras\u001b[39m.\u001b[39moptimizers\u001b[39m.\u001b[39mschedules\u001b[39m.\u001b[39mPiecewiseConstantDecay(\n\u001b[1;32m     10\u001b[0m       [\u001b[39m30_000\u001b[39m, \u001b[39m70_000\u001b[39m], [lr, lr\u001b[39m*\u001b[39m\u001b[39m0.1\u001b[39m, lr\u001b[39m*\u001b[39m\u001b[39m0.01\u001b[39m])\n\u001b[1;32m     11\u001b[0m trainer \u001b[39m=\u001b[39m tf\u001b[39m.\u001b[39mkeras\u001b[39m.\u001b[39moptimizers\u001b[39m.\u001b[39mlegacy\u001b[39m.\u001b[39mAdam(lr_sched)\n\u001b[0;32m---> 13\u001b[0m starting_indexes \u001b[39m=\u001b[39m np\u001b[39m.\u001b[39mrandom\u001b[39m.\u001b[39mrandint(\u001b[39m0\u001b[39m, x_train\u001b[39m.\u001b[39mshape[\u001b[39m0\u001b[39m]\u001b[39m-\u001b[39m\u001b[39m1\u001b[39m, size\u001b[39m=\u001b[39mPOOL_SIZE)\n\u001b[1;32m     14\u001b[0m pool \u001b[39m=\u001b[39m SamplePool(x\u001b[39m=\u001b[39mca\u001b[39m.\u001b[39minitialize(x_train[starting_indexes])\u001b[39m.\u001b[39mnumpy(), y\u001b[39m=\u001b[39my_train_pic[starting_indexes])\n\u001b[1;32m     16\u001b[0m \u001b[39m# !mkdir -p train_log && rm -f train_log/*\u001b[39;00m\n",
      "\u001b[0;31mNameError\u001b[0m: name 'x_train' is not defined"
     ]
    }
   ],
   "source": [
    "ca = CAModel()\n",
    "\n",
    "loss_log = []\n",
    "\n",
    "lr = 1e-3\n",
    "# TODO change range limits!\n",
    "lr_sched = tf.keras.optimizers.schedules.PiecewiseConstantDecay(\n",
    "      [30_000, 70_000], [lr, lr*0.1, lr*0.01])\n",
    "trainer = tf.keras.optimizers.legacy.Adam(lr_sched)\n",
    "\n",
    "starting_indexes = np.random.randint(0, x_train.shape[0] - 1, size=POOL_SIZE)\n",
    "pool = SamplePool(x=ca.initialize(x_train[starting_indexes]).numpy(), \n",
    "                  y=y_train_pic[starting_indexes])"
   ]
  },
  {
   "cell_type": "code",
   "execution_count": 15,
   "metadata": {},
   "outputs": [],
   "source": [
    "!mkdir -p train_log && rm -f train_log/*"
   ]
  },
  {
   "cell_type": "markdown",
   "metadata": {},
   "source": [
    "### Training loop"
   ]
  },
  {
   "cell_type": "code",
   "execution_count": 16,
   "metadata": {},
   "outputs": [
    {
     "name": "stdout",
     "output_type": "stream",
     "text": [
      "batch (before/after):\n"
     ]
    },
    {
     "data": {
      "image/jpeg": "[encoded data removed]",
      "text/plain": [
       "<IPython.core.display.Image object>"
      ]
     },
     "metadata": {},
     "output_type": "display_data"
    },
    {
     "data": {
      "image/png": "[encoded data removed]",
      "text/plain": [
       "<Figure size 1000x400 with 1 Axes>"
      ]
     },
     "metadata": {},
     "output_type": "display_data"
    },
    {
     "name": "stdout",
     "output_type": "stream",
     "text": [
      " step: 1190, log10(loss): -2.374"
     ]
    },
    {
     "ename": "KeyboardInterrupt",
     "evalue": "",
     "output_type": "error",
     "traceback": [
      "\u001b[0;31m---------------------------------------------------------------------------\u001b[0m",
      "\u001b[0;31mKeyboardInterrupt\u001b[0m                         Traceback (most recent call last)",
      "Cell \u001b[0;32mIn[16], line 20\u001b[0m\n\u001b[1;32m     17\u001b[0m x0 \u001b[39m=\u001b[39m x0[loss_rank]\n\u001b[1;32m     18\u001b[0m x0[:\u001b[39m1\u001b[39m] \u001b[39m=\u001b[39m seed\n\u001b[0;32m---> 20\u001b[0m x, loss \u001b[39m=\u001b[39m train_step(x0)\n\u001b[1;32m     22\u001b[0m batch\u001b[39m.\u001b[39mx[:] \u001b[39m=\u001b[39m x\n\u001b[1;32m     23\u001b[0m batch\u001b[39m.\u001b[39mcommit()\n",
      "File \u001b[0;32m~/Desktop/uni/vision/project/lib/python3.11/site-packages/tensorflow/python/util/traceback_utils.py:150\u001b[0m, in \u001b[0;36mfilter_traceback.<locals>.error_handler\u001b[0;34m(*args, **kwargs)\u001b[0m\n\u001b[1;32m    148\u001b[0m filtered_tb \u001b[39m=\u001b[39m \u001b[39mNone\u001b[39;00m\n\u001b[1;32m    149\u001b[0m \u001b[39mtry\u001b[39;00m:\n\u001b[0;32m--> 150\u001b[0m   \u001b[39mreturn\u001b[39;00m fn(\u001b[39m*\u001b[39;49margs, \u001b[39m*\u001b[39;49m\u001b[39m*\u001b[39;49mkwargs)\n\u001b[1;32m    151\u001b[0m \u001b[39mexcept\u001b[39;00m \u001b[39mException\u001b[39;00m \u001b[39mas\u001b[39;00m e:\n\u001b[1;32m    152\u001b[0m   filtered_tb \u001b[39m=\u001b[39m _process_traceback_frames(e\u001b[39m.\u001b[39m__traceback__)\n",
      "File \u001b[0;32m~/Desktop/uni/vision/project/lib/python3.11/site-packages/tensorflow/python/eager/polymorphic_function/polymorphic_function.py:825\u001b[0m, in \u001b[0;36mFunction.__call__\u001b[0;34m(self, *args, **kwds)\u001b[0m\n\u001b[1;32m    822\u001b[0m compiler \u001b[39m=\u001b[39m \u001b[39m\"\u001b[39m\u001b[39mxla\u001b[39m\u001b[39m\"\u001b[39m \u001b[39mif\u001b[39;00m \u001b[39mself\u001b[39m\u001b[39m.\u001b[39m_jit_compile \u001b[39melse\u001b[39;00m \u001b[39m\"\u001b[39m\u001b[39mnonXla\u001b[39m\u001b[39m\"\u001b[39m\n\u001b[1;32m    824\u001b[0m \u001b[39mwith\u001b[39;00m OptionalXlaContext(\u001b[39mself\u001b[39m\u001b[39m.\u001b[39m_jit_compile):\n\u001b[0;32m--> 825\u001b[0m   result \u001b[39m=\u001b[39m \u001b[39mself\u001b[39;49m\u001b[39m.\u001b[39;49m_call(\u001b[39m*\u001b[39;49margs, \u001b[39m*\u001b[39;49m\u001b[39m*\u001b[39;49mkwds)\n\u001b[1;32m    827\u001b[0m new_tracing_count \u001b[39m=\u001b[39m \u001b[39mself\u001b[39m\u001b[39m.\u001b[39mexperimental_get_tracing_count()\n\u001b[1;32m    828\u001b[0m without_tracing \u001b[39m=\u001b[39m (tracing_count \u001b[39m==\u001b[39m new_tracing_count)\n",
      "File \u001b[0;32m~/Desktop/uni/vision/project/lib/python3.11/site-packages/tensorflow/python/eager/polymorphic_function/polymorphic_function.py:857\u001b[0m, in \u001b[0;36mFunction._call\u001b[0;34m(self, *args, **kwds)\u001b[0m\n\u001b[1;32m    854\u001b[0m   \u001b[39mself\u001b[39m\u001b[39m.\u001b[39m_lock\u001b[39m.\u001b[39mrelease()\n\u001b[1;32m    855\u001b[0m   \u001b[39m# In this case we have created variables on the first call, so we run the\u001b[39;00m\n\u001b[1;32m    856\u001b[0m   \u001b[39m# defunned version which is guaranteed to never create variables.\u001b[39;00m\n\u001b[0;32m--> 857\u001b[0m   \u001b[39mreturn\u001b[39;00m \u001b[39mself\u001b[39;49m\u001b[39m.\u001b[39;49m_no_variable_creation_fn(\u001b[39m*\u001b[39;49margs, \u001b[39m*\u001b[39;49m\u001b[39m*\u001b[39;49mkwds)  \u001b[39m# pylint: disable=not-callable\u001b[39;00m\n\u001b[1;32m    858\u001b[0m \u001b[39melif\u001b[39;00m \u001b[39mself\u001b[39m\u001b[39m.\u001b[39m_variable_creation_fn \u001b[39mis\u001b[39;00m \u001b[39mnot\u001b[39;00m \u001b[39mNone\u001b[39;00m:\n\u001b[1;32m    859\u001b[0m   \u001b[39m# Release the lock early so that multiple threads can perform the call\u001b[39;00m\n\u001b[1;32m    860\u001b[0m   \u001b[39m# in parallel.\u001b[39;00m\n\u001b[1;32m    861\u001b[0m   \u001b[39mself\u001b[39m\u001b[39m.\u001b[39m_lock\u001b[39m.\u001b[39mrelease()\n",
      "File \u001b[0;32m~/Desktop/uni/vision/project/lib/python3.11/site-packages/tensorflow/python/eager/polymorphic_function/tracing_compiler.py:148\u001b[0m, in \u001b[0;36mTracingCompiler.__call__\u001b[0;34m(self, *args, **kwargs)\u001b[0m\n\u001b[1;32m    145\u001b[0m \u001b[39mwith\u001b[39;00m \u001b[39mself\u001b[39m\u001b[39m.\u001b[39m_lock:\n\u001b[1;32m    146\u001b[0m   (concrete_function,\n\u001b[1;32m    147\u001b[0m    filtered_flat_args) \u001b[39m=\u001b[39m \u001b[39mself\u001b[39m\u001b[39m.\u001b[39m_maybe_define_function(args, kwargs)\n\u001b[0;32m--> 148\u001b[0m \u001b[39mreturn\u001b[39;00m concrete_function\u001b[39m.\u001b[39;49m_call_flat(\n\u001b[1;32m    149\u001b[0m     filtered_flat_args, captured_inputs\u001b[39m=\u001b[39;49mconcrete_function\u001b[39m.\u001b[39;49mcaptured_inputs)\n",
      "File \u001b[0;32m~/Desktop/uni/vision/project/lib/python3.11/site-packages/tensorflow/python/eager/polymorphic_function/monomorphic_function.py:1349\u001b[0m, in \u001b[0;36mConcreteFunction._call_flat\u001b[0;34m(self, args, captured_inputs)\u001b[0m\n\u001b[1;32m   1345\u001b[0m possible_gradient_type \u001b[39m=\u001b[39m gradients_util\u001b[39m.\u001b[39mPossibleTapeGradientTypes(args)\n\u001b[1;32m   1346\u001b[0m \u001b[39mif\u001b[39;00m (possible_gradient_type \u001b[39m==\u001b[39m gradients_util\u001b[39m.\u001b[39mPOSSIBLE_GRADIENT_TYPES_NONE\n\u001b[1;32m   1347\u001b[0m     \u001b[39mand\u001b[39;00m executing_eagerly):\n\u001b[1;32m   1348\u001b[0m   \u001b[39m# No tape is watching; skip to running the function.\u001b[39;00m\n\u001b[0;32m-> 1349\u001b[0m   \u001b[39mreturn\u001b[39;00m \u001b[39mself\u001b[39m\u001b[39m.\u001b[39m_build_call_outputs(\u001b[39mself\u001b[39;49m\u001b[39m.\u001b[39;49m_inference_function(\u001b[39m*\u001b[39;49margs))\n\u001b[1;32m   1350\u001b[0m forward_backward \u001b[39m=\u001b[39m \u001b[39mself\u001b[39m\u001b[39m.\u001b[39m_select_forward_and_backward_functions(\n\u001b[1;32m   1351\u001b[0m     args,\n\u001b[1;32m   1352\u001b[0m     possible_gradient_type,\n\u001b[1;32m   1353\u001b[0m     executing_eagerly)\n\u001b[1;32m   1354\u001b[0m forward_function, args_with_tangents \u001b[39m=\u001b[39m forward_backward\u001b[39m.\u001b[39mforward()\n",
      "File \u001b[0;32m~/Desktop/uni/vision/project/lib/python3.11/site-packages/tensorflow/python/eager/polymorphic_function/atomic_function.py:196\u001b[0m, in \u001b[0;36mAtomicFunction.__call__\u001b[0;34m(self, *args)\u001b[0m\n\u001b[1;32m    194\u001b[0m \u001b[39mwith\u001b[39;00m record\u001b[39m.\u001b[39mstop_recording():\n\u001b[1;32m    195\u001b[0m   \u001b[39mif\u001b[39;00m \u001b[39mself\u001b[39m\u001b[39m.\u001b[39m_bound_context\u001b[39m.\u001b[39mexecuting_eagerly():\n\u001b[0;32m--> 196\u001b[0m     outputs \u001b[39m=\u001b[39m \u001b[39mself\u001b[39;49m\u001b[39m.\u001b[39;49m_bound_context\u001b[39m.\u001b[39;49mcall_function(\n\u001b[1;32m    197\u001b[0m         \u001b[39mself\u001b[39;49m\u001b[39m.\u001b[39;49mname,\n\u001b[1;32m    198\u001b[0m         \u001b[39mlist\u001b[39;49m(args),\n\u001b[1;32m    199\u001b[0m         \u001b[39mlen\u001b[39;49m(\u001b[39mself\u001b[39;49m\u001b[39m.\u001b[39;49mfunction_type\u001b[39m.\u001b[39;49mflat_outputs),\n\u001b[1;32m    200\u001b[0m     )\n\u001b[1;32m    201\u001b[0m   \u001b[39melse\u001b[39;00m:\n\u001b[1;32m    202\u001b[0m     outputs \u001b[39m=\u001b[39m make_call_op_in_graph(\u001b[39mself\u001b[39m, \u001b[39mlist\u001b[39m(args))\n",
      "File \u001b[0;32m~/Desktop/uni/vision/project/lib/python3.11/site-packages/tensorflow/python/eager/context.py:1457\u001b[0m, in \u001b[0;36mContext.call_function\u001b[0;34m(self, name, tensor_inputs, num_outputs)\u001b[0m\n\u001b[1;32m   1455\u001b[0m cancellation_context \u001b[39m=\u001b[39m cancellation\u001b[39m.\u001b[39mcontext()\n\u001b[1;32m   1456\u001b[0m \u001b[39mif\u001b[39;00m cancellation_context \u001b[39mis\u001b[39;00m \u001b[39mNone\u001b[39;00m:\n\u001b[0;32m-> 1457\u001b[0m   outputs \u001b[39m=\u001b[39m execute\u001b[39m.\u001b[39;49mexecute(\n\u001b[1;32m   1458\u001b[0m       name\u001b[39m.\u001b[39;49mdecode(\u001b[39m\"\u001b[39;49m\u001b[39mutf-8\u001b[39;49m\u001b[39m\"\u001b[39;49m),\n\u001b[1;32m   1459\u001b[0m       num_outputs\u001b[39m=\u001b[39;49mnum_outputs,\n\u001b[1;32m   1460\u001b[0m       inputs\u001b[39m=\u001b[39;49mtensor_inputs,\n\u001b[1;32m   1461\u001b[0m       attrs\u001b[39m=\u001b[39;49mattrs,\n\u001b[1;32m   1462\u001b[0m       ctx\u001b[39m=\u001b[39;49m\u001b[39mself\u001b[39;49m,\n\u001b[1;32m   1463\u001b[0m   )\n\u001b[1;32m   1464\u001b[0m \u001b[39melse\u001b[39;00m:\n\u001b[1;32m   1465\u001b[0m   outputs \u001b[39m=\u001b[39m execute\u001b[39m.\u001b[39mexecute_with_cancellation(\n\u001b[1;32m   1466\u001b[0m       name\u001b[39m.\u001b[39mdecode(\u001b[39m\"\u001b[39m\u001b[39mutf-8\u001b[39m\u001b[39m\"\u001b[39m),\n\u001b[1;32m   1467\u001b[0m       num_outputs\u001b[39m=\u001b[39mnum_outputs,\n\u001b[0;32m   (...)\u001b[0m\n\u001b[1;32m   1471\u001b[0m       cancellation_manager\u001b[39m=\u001b[39mcancellation_context,\n\u001b[1;32m   1472\u001b[0m   )\n",
      "File \u001b[0;32m~/Desktop/uni/vision/project/lib/python3.11/site-packages/tensorflow/python/eager/execute.py:53\u001b[0m, in \u001b[0;36mquick_execute\u001b[0;34m(op_name, num_outputs, inputs, attrs, ctx, name)\u001b[0m\n\u001b[1;32m     51\u001b[0m \u001b[39mtry\u001b[39;00m:\n\u001b[1;32m     52\u001b[0m   ctx\u001b[39m.\u001b[39mensure_initialized()\n\u001b[0;32m---> 53\u001b[0m   tensors \u001b[39m=\u001b[39m pywrap_tfe\u001b[39m.\u001b[39;49mTFE_Py_Execute(ctx\u001b[39m.\u001b[39;49m_handle, device_name, op_name,\n\u001b[1;32m     54\u001b[0m                                       inputs, attrs, num_outputs)\n\u001b[1;32m     55\u001b[0m \u001b[39mexcept\u001b[39;00m core\u001b[39m.\u001b[39m_NotOkStatusException \u001b[39mas\u001b[39;00m e:\n\u001b[1;32m     56\u001b[0m   \u001b[39mif\u001b[39;00m name \u001b[39mis\u001b[39;00m \u001b[39mnot\u001b[39;00m \u001b[39mNone\u001b[39;00m:\n",
      "\u001b[0;31mKeyboardInterrupt\u001b[0m: "
     ]
    }
   ],
   "source": [
    "# TODO this code will surely need some heavy modifications!\n",
    "@tf.function\n",
    "def train_step(x, y):\n",
    "  iter_n = 20\n",
    "  with tf.GradientTape() as g:\n",
    "    for i in tf.range(iter_n):\n",
    "      x = ca(x)\n",
    "    loss = batch_l2_loss(ca, x, y)\n",
    "  grads = g.gradient(loss, ca.weights)\n",
    "  grads = [g/(tf.norm(g)+1e-8) for g in grads]\n",
    "  trainer.apply_gradients(zip(grads, ca.weights))\n",
    "  return x, loss\n",
    "\n",
    "for i in range(1, 100000+1):\n",
    "  if USE_PATTERN_POOL:\n",
    "    batch = pool.sample(BATCH_SIZE)\n",
    "    x0 = np.copy(batch.x)\n",
    "    y0 = batch.y\n",
    "    # we want half of them new. We remove 1/4 from the top and 1/4 from the\n",
    "    # bottom.\n",
    "    q_bs = BATCH_SIZE // 4\n",
    "\n",
    "    new_idx = np.random.randint(0, x_train.shape[0]-1, size=q_bs)\n",
    "    x0[:q_bs] = ca.initialize(x_train[new_idx])\n",
    "    y0[:q_bs] = y_train_pic[new_idx]\n",
    "\n",
    "    new_idx = np.random.randint(0, x_train.shape[0]-1, size=q_bs)\n",
    "    new_x, new_y = x_train[new_idx], y_train_pic[new_idx]\n",
    "    if MUTATE_POOL:\n",
    "      new_x = tf.reshape(new_x, [q_bs, 28, 28, 1])\n",
    "      mutate_mask = tf.cast(new_x > 0.1, tf.float32)\n",
    "      mutated_x = tf.concat([new_x, x0[-q_bs:,:,:,1:] * mutate_mask], -1)\n",
    "\n",
    "      x0[-q_bs:] = mutated_x\n",
    "      y0[-q_bs:] = new_y\n",
    "\n",
    "    else:\n",
    "      x0[-q_bs:] = ca.initialize(new_x)\n",
    "      y0[-q_bs:] = new_y\n",
    "\n",
    "  else:\n",
    "    b_idx = np.random.randint(0, x_train.shape[0]-1, size=BATCH_SIZE)\n",
    "    x0 = ca.initialize(x_train[b_idx])\n",
    "    y0 = y_train_pic[b_idx]\n",
    "\n",
    "  x, loss = train_step(x0, y0)\n",
    "\n",
    "  if USE_PATTERN_POOL:\n",
    "    batch.x[:] = x\n",
    "    batch.y[:] = y0 # This gets reordered, so you need to change it.\n",
    "    batch.commit()\n",
    "\n",
    "  step_i = len(loss_log)\n",
    "  loss_log.append(loss.numpy())\n",
    "\n",
    "  if step_i%100 == 0:\n",
    "    generate_pool_figures(ca, pool, step_i)\n",
    "  if step_i%200 == 0:\n",
    "    clear_output()\n",
    "    visualize_batch(ca, x0, x, step_i)\n",
    "    plot_loss(loss_log)\n",
    "\n",
    "  print('\\r step: %d, log10(loss): %.3f'%(len(loss_log), np.log10(loss)), end='')"
   ]
  },
  {
   "cell_type": "code",
   "execution_count": null,
   "metadata": {},
   "outputs": [],
   "source": [
    "# TODO evaluation, possibly?"
   ]
  }
 ],
 "metadata": {
  "kernelspec": {
   "display_name": "project",
   "language": "python",
   "name": "python3"
  },
  "language_info": {
   "codemirror_mode": {
    "name": "ipython",
    "version": 3
   },
   "file_extension": ".py",
   "mimetype": "text/x-python",
   "name": "python",
   "nbconvert_exporter": "python",
   "pygments_lexer": "ipython3",
   "version": "3.11.4"
  },
  "orig_nbformat": 4
 },
 "nbformat": 4,
 "nbformat_minor": 2
}
