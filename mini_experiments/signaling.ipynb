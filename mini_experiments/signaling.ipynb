{
 "cells": [
  {
   "cell_type": "markdown",
   "metadata": {},
   "source": [
    "# Mini Experiment: Signaling"
   ]
  },
  {
   "cell_type": "markdown",
   "metadata": {},
   "source": [
    "This notebook contains some code for experimenting with the signaling between two NCAs, in a simplified setting."
   ]
  },
  {
   "cell_type": "markdown",
   "metadata": {},
   "source": [
    "## Setup"
   ]
  },
  {
   "cell_type": "code",
   "execution_count": 1,
   "metadata": {},
   "outputs": [],
   "source": [
    "import os\n",
    "import io\n",
    "import PIL.Image, PIL.ImageDraw\n",
    "import base64\n",
    "import json\n",
    "import math\n",
    "import numpy as np\n",
    "import matplotlib.pylab as pl\n",
    "import matplotlib.pyplot as plt\n",
    "import glob\n",
    "\n",
    "import tensorflow as tf\n",
    "from tensorflow.keras.layers import Conv2D\n",
    "\n",
    "from google.protobuf.json_format import MessageToDict\n",
    "from tensorflow.python.framework import convert_to_constants\n",
    "\n",
    "from IPython.display import Image, clear_output\n",
    "import tqdm\n",
    "\n",
    "import os\n",
    "os.environ['FFMPEG_BINARY'] = 'ffmpeg'\n",
    "import moviepy.editor as mvp\n",
    "from moviepy.video.io.ffmpeg_writer import FFMPEG_VideoWriter\n",
    "\n",
    "clear_output()"
   ]
  },
  {
   "cell_type": "code",
   "execution_count": 2,
   "metadata": {},
   "outputs": [],
   "source": [
    "def np2pil(a):\n",
    "  if a.dtype in [np.float32, np.float64]:\n",
    "    a = np.uint8(np.clip(a, 0, 1)*255)\n",
    "  return PIL.Image.fromarray(a)\n",
    "\n",
    "def imwrite(f, a, fmt=None):\n",
    "  a = np.asarray(a)\n",
    "  if isinstance(f, str):\n",
    "    fmt = f.rsplit('.', 1)[-1].lower()\n",
    "    if fmt == 'jpg':\n",
    "      fmt = 'jpeg'\n",
    "    f = open(f, 'wb')\n",
    "  np2pil(a).save(f, fmt, quality=95)\n",
    "\n",
    "def imencode(a, fmt='jpeg'):\n",
    "  a = np.asarray(a)\n",
    "  if len(a.shape) == 3 and a.shape[-1] == 4:\n",
    "    fmt = 'png'\n",
    "  f = io.BytesIO()\n",
    "  imwrite(f, a, fmt)\n",
    "  return f.getvalue()\n",
    "\n",
    "def im2url(a, fmt='jpeg'):\n",
    "  encoded = imencode(a, fmt)\n",
    "  base64_byte_string = base64.b64encode(encoded).decode('ascii')\n",
    "  return 'data:image/' + fmt.upper() + ';base64,' + base64_byte_string\n",
    "\n",
    "def imshow(a, fmt='jpeg'):\n",
    "  display(Image(data=imencode(a, fmt)))\n",
    "\n",
    "def tile2d(a, w=None):\n",
    "  a = np.asarray(a)\n",
    "  if w is None:\n",
    "    w = int(np.ceil(np.sqrt(len(a))))\n",
    "  th, tw = a.shape[1:3]\n",
    "  pad = (w-len(a))%w\n",
    "  a = np.pad(a, [(0, pad)]+[(0, 0)]*(a.ndim-1), 'constant')\n",
    "  h = len(a)//w\n",
    "  a = a.reshape([h, w]+list(a.shape[1:]))\n",
    "  a = np.rollaxis(a, 2, 1).reshape([th*h, tw*w]+list(a.shape[4:]))\n",
    "  return a\n",
    "\n",
    "def zoom(img, scale=4):\n",
    "  img = np.repeat(img, scale, 0)\n",
    "  img = np.repeat(img, scale, 1)\n",
    "  return img\n",
    "\n",
    "def generate_tiled_figures(figures, fade_by=0.1):\n",
    "  tiled_pool = tile2d(figures)\n",
    "  fade_sz = int(tiled_pool.shape[0] * fade_by)\n",
    "  fade = np.linspace(1.0, 0.0, fade_sz)\n",
    "  ones = np.ones(fade_sz) \n",
    "  tiled_pool[:, :fade_sz] += (-tiled_pool[:, :fade_sz] + ones[None, :, None]) * fade[None, :, None] \n",
    "  tiled_pool[:, -fade_sz:] += (-tiled_pool[:, -fade_sz:] + ones[None, :, None]) * fade[None, ::-1, None]\n",
    "  tiled_pool[:fade_sz, :] += (-tiled_pool[:fade_sz, :] + ones[:, None, None]) * fade[:, None, None]\n",
    "  tiled_pool[-fade_sz:, :] += (-tiled_pool[-fade_sz:, :] + ones[:, None, None]) * fade[::-1, None, None]\n",
    "  return tiled_pool\n",
    "\n",
    "class VideoWriter:\n",
    "  def __init__(self, filename, fps=30.0, **kw):\n",
    "    self.writer = None\n",
    "    self.params = dict(filename=filename, fps=fps, **kw)\n",
    "\n",
    "  def add(self, img):\n",
    "    img = np.asarray(img)\n",
    "    if self.writer is None:\n",
    "      h, w = img.shape[:2]\n",
    "      self.writer = FFMPEG_VideoWriter(size=(w, h), **self.params)\n",
    "    if img.dtype in [np.float32, np.float64]:\n",
    "      img = np.uint8(img.clip(0, 1)*255)\n",
    "    if len(img.shape) == 2:\n",
    "      img = np.repeat(img[..., None], 3, -1)\n",
    "    if len(img.shape) == 3 and img.shape[-1] == 4:\n",
    "      img = img[..., :3] * img[..., 3, None]\n",
    "    self.writer.write_frame(img)\n",
    "\n",
    "  def close(self):\n",
    "    if self.writer:\n",
    "      self.writer.close()\n",
    "\n",
    "  def __enter__(self):\n",
    "    return self\n",
    "\n",
    "  def __exit__(self, *kw):\n",
    "    self.close()"
   ]
  },
  {
   "cell_type": "markdown",
   "metadata": {},
   "source": [
    "## Data loading and manipulation"
   ]
  },
  {
   "cell_type": "code",
   "execution_count": 3,
   "metadata": {},
   "outputs": [],
   "source": [
    "(x_train, y_train), (x_test, y_test) = tf.keras.datasets.mnist.load_data()\n",
    "x_train = np.array(x_train / 255.0,).astype(np.float32)\n",
    "x_test = np.array(x_test / 255.0,).astype(np.float32)"
   ]
  },
  {
   "cell_type": "code",
   "execution_count": 4,
   "metadata": {},
   "outputs": [],
   "source": [
    "mask_train = (y_train == 0) | (y_train == 1)\n",
    "mask_test = (y_test == 0) | (y_test == 1)\n",
    "\n",
    "x_train = x_train[mask_train]\n",
    "y_train = y_train[mask_train]\n",
    "x_test = x_test[mask_test]\n",
    "y_test = y_test[mask_test]"
   ]
  },
  {
   "cell_type": "code",
   "execution_count": 5,
   "metadata": {},
   "outputs": [
    {
     "name": "stderr",
     "output_type": "stream",
     "text": [
      "2023-08-28 16:30:40.706843: I metal_plugin/src/device/metal_device.cc:1154] Metal device set to: Apple M1 Pro\n",
      "2023-08-28 16:30:40.706867: I metal_plugin/src/device/metal_device.cc:296] systemMemory: 16.00 GB\n",
      "2023-08-28 16:30:40.706876: I metal_plugin/src/device/metal_device.cc:313] maxCacheSize: 5.33 GB\n",
      "2023-08-28 16:30:40.706906: I tensorflow/core/common_runtime/pluggable_device/pluggable_device_factory.cc:303] Could not identify NUMA node of platform GPU ID 0, defaulting to 0. Your kernel may not have been built with NUMA support.\n",
      "2023-08-28 16:30:40.706924: I tensorflow/core/common_runtime/pluggable_device/pluggable_device_factory.cc:269] Created TensorFlow device (/job:localhost/replica:0/task:0/device:GPU:0 with 0 MB memory) -> physical PluggableDevice (device: 0, name: METAL, pci bus id: <undefined>)\n"
     ]
    },
    {
     "data": {
      "image/jpeg": "[encoded data removed]",
      "text/plain": [
       "<IPython.core.display.Image object>"
      ]
     },
     "metadata": {},
     "output_type": "display_data"
    },
    {
     "data": {
      "text/plain": [
       "<matplotlib.image.AxesImage at 0x127901490>"
      ]
     },
     "execution_count": 5,
     "metadata": {},
     "output_type": "execute_result"
    },
    {
     "data": {
      "image/png": "[encoded data removed]",
      "text/plain": [
       "<Figure size 640x480 with 1 Axes>"
      ]
     },
     "metadata": {},
     "output_type": "display_data"
    }
   ],
   "source": [
    "color_lookup = tf.constant([\n",
    "            [70, 240, 240],\n",
    "            [250, 190, 190],\n",
    "            \n",
    "            [0, 0, 0], # default for digits.\n",
    "            [255, 255, 255] # This is the background.\n",
    "            ])\n",
    "backgroundWhite = True\n",
    "\n",
    "def color_labels(x, y_pic, disable_black=False, dtype=tf.uint8):\n",
    "  # works for shapes of x [b, r, c] and [r, c]\n",
    "  black_and_white = tf.fill(list(x.shape) + [2], 0.01)\n",
    "  is_gray = tf.cast(x > 0.1, tf.float32)\n",
    "  is_not_gray = 1. - is_gray\n",
    "\n",
    "  y_pic = y_pic * tf.expand_dims(is_gray, -1) # forcibly cancels everything outside of it.\n",
    "  \n",
    "  # if disable_black, make is_gray super low.\n",
    "  if disable_black:\n",
    "    is_gray *= -1e5\n",
    "    # this ensures that you don't draw white in the digits.\n",
    "    is_not_gray += is_gray\n",
    "\n",
    "  bnw_order = [is_gray, is_not_gray] if backgroundWhite else [is_not_gray, is_gray]\n",
    "  black_and_white *= tf.stack(bnw_order, -1)\n",
    "\n",
    "  rgb = tf.gather(\n",
    "      color_lookup,\n",
    "      tf.argmax(tf.concat([y_pic, black_and_white], -1), -1))\n",
    "  if dtype == tf.uint8:\n",
    "    return tf.cast(rgb, tf.uint8)\n",
    "  else:\n",
    "    return tf.cast(rgb, dtype) / 255.\n",
    "\n",
    "def to_two_dim_label(x, y):\n",
    "  # x shape is [b, r, c]\n",
    "  # y shape is [b]\n",
    "\n",
    "  # y_res shape is [b, r, c, 2]\n",
    "  y_res = np.zeros(list(x.shape) + [2])\n",
    "  # broadcast y to match x shape:\n",
    "  y_expanded = np.broadcast_to(y, x.T.shape).T\n",
    "  y_res[x >= 0.1, y_expanded[x >= 0.1]] = 1.0\n",
    "  return y_res.astype(np.float32)\n",
    "\n",
    "def find_different_numbers(x_set, y_set, y_set_pic, orientation=\"vertical\"):\n",
    "  result_y = []\n",
    "  result_x = []\n",
    "  for i in range(2):\n",
    "    for x, y, y_pic in zip(x_set, y_set, y_set_pic):\n",
    "      if y == i:\n",
    "        result_y.append(color_labels(x, y_pic))\n",
    "        result_x.append(x)\n",
    "        break\n",
    "  assert len(result_y) == 2\n",
    "\n",
    "  result_y = np.concatenate(result_y, axis=0 if orientation == \"vertical\" else 1)\n",
    "  result_x = np.stack(result_x)\n",
    "\n",
    "  return result_y, result_x\n",
    "\n",
    "y_train_pic = to_two_dim_label(x_train, y_train)\n",
    "y_test_pic = to_two_dim_label(x_test, y_test)\n",
    "\n",
    "numbers_legend, x_legend = find_different_numbers(x_train, y_train, y_train_pic)\n",
    "numbers_legend_horiz, _ = find_different_numbers(x_train, y_train, y_train_pic, \"horizontal\")\n",
    "\n",
    "imshow(zoom(numbers_legend_horiz))\n",
    "pl.imshow(x_legend.reshape((-1, 28)))"
   ]
  },
  {
   "cell_type": "markdown",
   "metadata": {},
   "source": [
    "Ok. Let's extract the two digits above..."
   ]
  },
  {
   "cell_type": "code",
   "execution_count": 6,
   "metadata": {},
   "outputs": [],
   "source": [
    "zero = x_legend[0]\n",
    "one = x_legend[1]"
   ]
  },
  {
   "cell_type": "code",
   "execution_count": 7,
   "metadata": {},
   "outputs": [
    {
     "data": {
      "text/plain": [
       "<matplotlib.image.AxesImage at 0x17a84aad0>"
      ]
     },
     "execution_count": 7,
     "metadata": {},
     "output_type": "execute_result"
    },
    {
     "data": {
      "image/png": "[encoded data removed]",
      "text/plain": [
       "<Figure size 640x480 with 1 Axes>"
      ]
     },
     "metadata": {},
     "output_type": "display_data"
    }
   ],
   "source": [
    "pl.imshow(zero)\n",
    "# pl.imshow(one)"
   ]
  },
  {
   "cell_type": "code",
   "execution_count": 8,
   "metadata": {},
   "outputs": [
    {
     "data": {
      "text/plain": [
       "((28, 28), (28, 28))"
      ]
     },
     "execution_count": 8,
     "metadata": {},
     "output_type": "execute_result"
    }
   ],
   "source": [
    "zero.shape, one.shape"
   ]
  },
  {
   "cell_type": "markdown",
   "metadata": {},
   "source": [
    "## Data processing "
   ]
  },
  {
   "cell_type": "markdown",
   "metadata": {},
   "source": [
    "### Load model"
   ]
  },
  {
   "cell_type": "code",
   "execution_count": 9,
   "metadata": {},
   "outputs": [],
   "source": [
    "CHANNEL_N = 10 # Number of CA state channels\n",
    "BATCH_SIZE = 16\n",
    "POOL_SIZE = BATCH_SIZE * 10\n",
    "CELL_FIRE_RATE = 0.5\n",
    "ADD_NOISE = False"
   ]
  },
  {
   "cell_type": "code",
   "execution_count": 10,
   "metadata": {},
   "outputs": [],
   "source": [
    "class CAModel(tf.keras.Model):\n",
    "\n",
    "  def __init__(self, channel_n=CHANNEL_N, fire_rate=CELL_FIRE_RATE,\n",
    "               add_noise=ADD_NOISE):\n",
    "    # CHANNEL_N does *not* include the greyscale channel.\n",
    "    # but it does include the 2 possible outputs.\n",
    "    super().__init__()\n",
    "    self.channel_n = channel_n\n",
    "    self.fire_rate = fire_rate\n",
    "    self.add_noise = add_noise\n",
    "\n",
    "    self.perceive = tf.keras.Sequential([\n",
    "          Conv2D(80, 3, activation=tf.nn.relu, padding=\"SAME\"),\n",
    "      ])\n",
    "\n",
    "    self.dmodel = tf.keras.Sequential([\n",
    "          Conv2D(80, 1, activation=tf.nn.relu),\n",
    "          Conv2D(self.channel_n, 1, activation=None,\n",
    "                       kernel_initializer=tf.zeros_initializer),\n",
    "    ])\n",
    "\n",
    "    self(tf.zeros([1, 3, 3, channel_n + 1]))  # dummy calls to build the model\n",
    "\n",
    "  @tf.function\n",
    "  def call(self, x, fire_rate=None, manual_noise=None):\n",
    "    gray, state = tf.split(x, [1, self.channel_n], -1)\n",
    "    ds = self.dmodel(self.perceive(x))\n",
    "    if self.add_noise:\n",
    "      if manual_noise is None:\n",
    "        residual_noise = tf.random.normal(tf.shape(ds), 0., 0.02)\n",
    "      else:\n",
    "        residual_noise = manual_noise\n",
    "      ds += residual_noise\n",
    "\n",
    "    if fire_rate is None:\n",
    "      fire_rate = self.fire_rate\n",
    "    update_mask = tf.random.uniform(tf.shape(x[:, :, :, :1])) <= fire_rate\n",
    "    living_mask = gray > 0.1\n",
    "    residual_mask = update_mask & living_mask\n",
    "    ds *= tf.cast(residual_mask, tf.float32)\n",
    "    state += ds\n",
    "    \n",
    "    return tf.concat([gray, state], -1)\n",
    "\n",
    "  @tf.function\n",
    "  def initialize(self, images):\n",
    "    state = tf.zeros([tf.shape(images)[0], 28, 28, self.channel_n])\n",
    "    images = tf.reshape(images, [-1, 28, 28, 1])\n",
    "    return tf.concat([images, state], -1)\n",
    "\n",
    "  @tf.function\n",
    "  def classify(self, x):\n",
    "    # The last 2 layers are the classification predictions, one channel\n",
    "    # per class. Keep in mind there is no \"background\" class,\n",
    "    # and that any loss doesn't propagate to \"dead\" pixels.\n",
    "    return x[:,:,:,-2:]"
   ]
  },
  {
   "cell_type": "code",
   "execution_count": 11,
   "metadata": {},
   "outputs": [],
   "source": [
    "def get_exp_path(prefix):\n",
    "  path = prefix\n",
    "  path += '/0009900'\n",
    "  return path\n",
    "\n",
    "def get_model(prefix=\"../train_log\", output='model'):\n",
    "  path = get_exp_path(prefix)\n",
    "  assert output in ['model', 'json']\n",
    "  if output == 'model':\n",
    "    ca = CAModel()\n",
    "    ca.load_weights(path)\n",
    "    return ca\n",
    "  elif output == 'json':\n",
    "    return open(path+'.json', 'r').read()"
   ]
  },
  {
   "cell_type": "code",
   "execution_count": 12,
   "metadata": {},
   "outputs": [],
   "source": [
    "# ideal outcome\n",
    "# num_digits = 42\n",
    "\n",
    "# indexes = np.random.randint(0, x_train.shape[0]-1, size=num_digits)\n",
    "# figures = color_labels(x_train[indexes], y_train_pic[indexes], dtype=tf.float32)\n",
    "# tile_digits = generate_tiled_figures(figures, fade_by=0.1)\n",
    "\n",
    "# imshow(zoom(tile_digits))"
   ]
  },
  {
   "cell_type": "code",
   "execution_count": 13,
   "metadata": {},
   "outputs": [
    {
     "name": "stderr",
     "output_type": "stream",
     "text": [
      "2023-08-28 16:30:41.298402: I tensorflow/core/grappler/optimizers/custom_graph_optimizer_registry.cc:114] Plugin optimizer for device_type GPU is enabled.\n"
     ]
    }
   ],
   "source": [
    "ca = get_model()"
   ]
  },
  {
   "cell_type": "markdown",
   "metadata": {},
   "source": [
    "### Quick test"
   ]
  },
  {
   "cell_type": "markdown",
   "metadata": {},
   "source": [
    "Let's do a sanity check first."
   ]
  },
  {
   "cell_type": "code",
   "execution_count": 14,
   "metadata": {},
   "outputs": [],
   "source": [
    "# set to true if you want to run the sanity check (takes around 50 seconds)\n",
    "rerun = False\n",
    "if rerun:\n",
    "  def eval_perform_steps(ca, x, yt, num_steps):\n",
    "    yt_label = tf.argmax(yt, axis=-1)\n",
    "\n",
    "    live_mask = x[..., 0] > 0.1\n",
    "    live_mask_fl = tf.expand_dims(tf.cast(live_mask, tf.float32), -1)\n",
    "    dead_channel = tf.cast(x[..., :1] <= 0.1, tf.float32)\n",
    "\n",
    "    # for now the metric is aggregating everything.\n",
    "    total_count = tf.reduce_sum(tf.cast(live_mask, tf.float32))\n",
    "\n",
    "    avg_accuracy_list = []\n",
    "    avg_total_agreement_list = []\n",
    "    for _ in range(1, num_steps + 1):\n",
    "      x = ca(x)\n",
    "\n",
    "      y = ca.classify(x)\n",
    "      y_label = tf.argmax(y, axis=-1)\n",
    "\n",
    "      correct = tf.equal(y_label,  yt_label) & live_mask\n",
    "      total_correct = tf.reduce_sum(tf.cast(correct, tf.float32))\n",
    "      avg_accuracy_list.append((total_correct/total_count * 100).numpy().item())\n",
    "\n",
    "      # agreement metrics\n",
    "      # Important to exclude dead cells:\n",
    "      y = y * live_mask_fl\n",
    "      y_label_plus_mask = tf.argmax(tf.concat([y, dead_channel], -1), axis=-1)\n",
    "      all_counts = []\n",
    "      for idx in range(2):\n",
    "        count_i = tf.reduce_sum(\n",
    "            tf.cast(tf.equal(y_label_plus_mask, idx), tf.int32), axis=[1,2])\n",
    "        all_counts.append(count_i)\n",
    "      all_counts_t = tf.stack(all_counts, 1)\n",
    "      # Now the trick is that if there is a total agreement, their sum is the same\n",
    "      # as their max.\n",
    "      equality = tf.equal(tf.reduce_max(all_counts_t, axis=1),\n",
    "                          tf.reduce_sum(all_counts_t, axis=1))\n",
    "      sum_agreement = tf.reduce_sum(tf.cast(equality, tf.float32))\n",
    "      avg_total_agreement_list.append(sum_agreement.numpy().item() / y.shape[0] * 100)\n",
    "\n",
    "    return avg_accuracy_list, avg_total_agreement_list\n",
    "\n",
    "  def eval_batch_fn(ca, x_test, y_test_pic, num_steps, mutate):\n",
    "    x = ca.initialize(x_test)\n",
    "    yt = y_test_pic\n",
    "\n",
    "    avg_acc_l_1, avg_tot_agr_l_1 = eval_perform_steps(ca, x, yt, num_steps)\n",
    "    if not mutate:\n",
    "      return avg_acc_l_1, avg_tot_agr_l_1\n",
    "    # Accuracy after mutation!\n",
    "    new_idx = np.random.randint(0, x_test.shape[0]-1, size=x_test.shape[0])\n",
    "    new_x, yt = x_test[new_idx], y_test_pic[new_idx]\n",
    "    new_x = tf.reshape(new_x, [-1, 28, 28, 1])\n",
    "    mutate_mask = tf.cast(new_x > 0.1, tf.float32)\n",
    "\n",
    "    x = tf.concat([new_x, x[:,:,:,1:] * mutate_mask], -1)\n",
    "\n",
    "    avg_acc_l_2, avg_tot_agr_l_2 = eval_perform_steps(ca, x, yt, num_steps)\n",
    "\n",
    "    return avg_acc_l_1 + avg_acc_l_2, avg_tot_agr_l_1 + avg_tot_agr_l_2\n",
    "\n",
    "  def eval_all(ca, num_steps, mutate):\n",
    "    all_accuracies = []\n",
    "    all_agreements = []\n",
    "\n",
    "    # total test set is 2115 (check a few cells above)\n",
    "    num_batches = 10\n",
    "    eval_bs = 2115 // num_batches\n",
    "    for i in tqdm.trange(num_batches):\n",
    "      x_set = x_test[eval_bs*i:eval_bs*(i+1)]\n",
    "      y_set = y_test_pic[eval_bs*i:eval_bs*(i+1)]\n",
    "      acc_i, agr_i = eval_batch_fn(ca, x_set, y_set, num_steps, mutate)\n",
    "      all_accuracies.append(acc_i)\n",
    "      all_agreements.append(agr_i)\n",
    "\n",
    "    all_accuracies = [sum(l)/num_batches for l in zip(*all_accuracies)]\n",
    "    all_agreements = [sum(l)/num_batches for l in zip(*all_agreements)]\n",
    "    return all_accuracies, all_agreements\n",
    "\n",
    "  eval_batch = 1000\n",
    "  num_iters = 10\n",
    "\n",
    "  all_accuracies, all_agreements = eval_all(ca, num_steps=200, mutate=True)\n",
    "\n",
    "  pl.figure(figsize=(10, 4))\n",
    "  pl.title('Average cell accuracy over steps (%)')\n",
    "  pl.xlabel('Number of steps')\n",
    "  pl.ylabel('Average cell accuracy (%)')\n",
    "  pl.xlim(0, 400)\n",
    "  pl.ylim(0, 100)\n",
    "  pl.plot(all_accuracies, label=\"ca\")\n",
    "  pl.legend()\n",
    "  pl.show()\n",
    "\n",
    "  pl.figure(figsize=(10, 4))\n",
    "  pl.title('Average total agreement across batch over steps (%)')\n",
    "  pl.xlabel('Number of steps')\n",
    "  pl.ylabel('Average total agreement (%)')\n",
    "  pl.xlim(0, 400)\n",
    "  pl.ylim(0, 100)\n",
    "  pl.plot(all_agreements, label=\"ca\")\n",
    "  pl.legend()\n",
    "  pl.show()"
   ]
  },
  {
   "cell_type": "markdown",
   "metadata": {},
   "source": [
    "Good, it's as we expected! (Compare the two graphs with the ones in the classifying_NCAs_mnist notebook)"
   ]
  },
  {
   "cell_type": "markdown",
   "metadata": {},
   "source": [
    "### Initialization and processing"
   ]
  },
  {
   "cell_type": "markdown",
   "metadata": {},
   "source": [
    "Reshaping and preparing our images is quite easy, now."
   ]
  },
  {
   "cell_type": "code",
   "execution_count": 15,
   "metadata": {},
   "outputs": [
    {
     "name": "stderr",
     "output_type": "stream",
     "text": [
      "2023-08-28 16:30:41.389065: I tensorflow/core/grappler/optimizers/custom_graph_optimizer_registry.cc:114] Plugin optimizer for device_type GPU is enabled.\n"
     ]
    },
    {
     "data": {
      "text/plain": [
       "TensorShape([2, 28, 28, 11])"
      ]
     },
     "execution_count": 15,
     "metadata": {},
     "output_type": "execute_result"
    }
   ],
   "source": [
    "initd = ca.initialize([zero, one])\n",
    "\n",
    "initd.shape"
   ]
  },
  {
   "cell_type": "code",
   "execution_count": 16,
   "metadata": {},
   "outputs": [
    {
     "name": "stderr",
     "output_type": "stream",
     "text": [
      "2023-08-28 16:30:41.426967: I tensorflow/core/grappler/optimizers/custom_graph_optimizer_registry.cc:114] Plugin optimizer for device_type GPU is enabled.\n"
     ]
    },
    {
     "data": {
      "text/plain": [
       "TensorShape([2, 28, 28, 11])"
      ]
     },
     "execution_count": 16,
     "metadata": {},
     "output_type": "execute_result"
    }
   ],
   "source": [
    "activated = ca(initd)\n",
    "\n",
    "activated.shape"
   ]
  },
  {
   "cell_type": "code",
   "execution_count": 17,
   "metadata": {},
   "outputs": [
    {
     "name": "stderr",
     "output_type": "stream",
     "text": [
      "2023-08-28 16:30:41.486695: I tensorflow/core/grappler/optimizers/custom_graph_optimizer_registry.cc:114] Plugin optimizer for device_type GPU is enabled.\n"
     ]
    },
    {
     "data": {
      "text/plain": [
       "TensorShape([2, 28, 28, 2])"
      ]
     },
     "execution_count": 17,
     "metadata": {},
     "output_type": "execute_result"
    }
   ],
   "source": [
    "ys = ca.classify(activated)\n",
    "\n",
    "ys.shape"
   ]
  },
  {
   "cell_type": "markdown",
   "metadata": {},
   "source": [
    "### Visualization"
   ]
  },
  {
   "cell_type": "markdown",
   "metadata": {},
   "source": [
    "Let's check that everything makes sense and build some visual intuition while we're at it!"
   ]
  },
  {
   "cell_type": "code",
   "execution_count": 18,
   "metadata": {},
   "outputs": [],
   "source": [
    "def visualize_channels(image):\n",
    "  # Get the number of channels in the image\n",
    "  num_channels = image.shape[-1]\n",
    "\n",
    "  # Create a figure with a vertical arrangement of subplots\n",
    "  fig, axes = plt.subplots(ncols=num_channels, figsize=(10, 4))\n",
    "\n",
    "  # Plot each channel as a grayscale image\n",
    "  for i in range(num_channels):\n",
    "    channel_image = image[:, :, i]\n",
    "    axes[i].imshow(channel_image)\n",
    "    axes[i].set_title(f'{i + 1}')\n",
    "    axes[i].axis('off')\n",
    "\n",
    "  plt.show()\n",
    "\n",
    "def classify_and_color(ca, x, disable_black=False):\n",
    "  return color_labels(\n",
    "      x[:,:,:,0], ca.classify(x), disable_black, dtype=tf.float32)"
   ]
  },
  {
   "cell_type": "code",
   "execution_count": 19,
   "metadata": {},
   "outputs": [
    {
     "data": {
      "image/png": "[encoded data removed]",
      "text/plain": [
       "<Figure size 1000x400 with 11 Axes>"
      ]
     },
     "metadata": {},
     "output_type": "display_data"
    }
   ],
   "source": [
    "visualize_channels(activated[0])"
   ]
  },
  {
   "cell_type": "code",
   "execution_count": 20,
   "metadata": {},
   "outputs": [
    {
     "data": {
      "image/png": "[encoded data removed]",
      "text/plain": [
       "<Figure size 1000x400 with 11 Axes>"
      ]
     },
     "metadata": {},
     "output_type": "display_data"
    }
   ],
   "source": [
    "visualize_channels(activated[1])"
   ]
  },
  {
   "cell_type": "markdown",
   "metadata": {},
   "source": [
    "Looks good, and quite interesting!"
   ]
  },
  {
   "cell_type": "markdown",
   "metadata": {},
   "source": [
    "Let's take a closer look at the labels."
   ]
  },
  {
   "cell_type": "code",
   "execution_count": 21,
   "metadata": {},
   "outputs": [
    {
     "data": {
      "image/png": "[encoded data removed]",
      "text/plain": [
       "<Figure size 1000x400 with 2 Axes>"
      ]
     },
     "metadata": {},
     "output_type": "display_data"
    }
   ],
   "source": [
    "visualize_channels(ys[0])"
   ]
  },
  {
   "cell_type": "code",
   "execution_count": 22,
   "metadata": {},
   "outputs": [
    {
     "data": {
      "image/jpeg": "[encoded data removed]",
      "text/plain": [
       "<IPython.core.display.Image object>"
      ]
     },
     "metadata": {},
     "output_type": "display_data"
    }
   ],
   "source": [
    "imshow(zoom(classify_and_color(ca, activated)[0]))"
   ]
  },
  {
   "cell_type": "code",
   "execution_count": 37,
   "metadata": {},
   "outputs": [
    {
     "data": {
      "text/plain": [
       "<matplotlib.image.AxesImage at 0x29abead10>"
      ]
     },
     "execution_count": 37,
     "metadata": {},
     "output_type": "execute_result"
    },
    {
     "data": {
      "image/png": "[encoded data removed]",
      "text/plain": [
       "<Figure size 640x480 with 1 Axes>"
      ]
     },
     "metadata": {},
     "output_type": "display_data"
    }
   ],
   "source": [
    "plt.imshow(activated[0, :, :, 0] > 0.1)"
   ]
  },
  {
   "cell_type": "code",
   "execution_count": 24,
   "metadata": {},
   "outputs": [],
   "source": [
    "l = activated[0, :, :, 9]\n",
    "m = activated[0, :, :, 10]"
   ]
  },
  {
   "cell_type": "code",
   "execution_count": 25,
   "metadata": {},
   "outputs": [
    {
     "data": {
      "text/plain": [
       "(<tf.Tensor: shape=(), dtype=int32, numpy=22>,\n",
       " <tf.Tensor: shape=(), dtype=int32, numpy=16>)"
      ]
     },
     "execution_count": 25,
     "metadata": {},
     "output_type": "execute_result"
    }
   ],
   "source": [
    "tf.reduce_sum(tf.cast(l > 0.1, tf.int32)), tf.reduce_sum(tf.cast(m > 0.1, tf.int32))"
   ]
  },
  {
   "cell_type": "markdown",
   "metadata": {},
   "source": [
    "Note the correspondence between the channels and the colors: the pixels with the highest intensity in the first channel are colored turqouise, while the ones with the highest intensity in the second channel are colored pink! (Naturally, the ones with low intensities in both are colored black, i.e. the default color)."
   ]
  },
  {
   "cell_type": "code",
   "execution_count": 26,
   "metadata": {},
   "outputs": [
    {
     "data": {
      "image/png": "[encoded data removed]",
      "text/plain": [
       "<Figure size 1000x400 with 2 Axes>"
      ]
     },
     "metadata": {},
     "output_type": "display_data"
    }
   ],
   "source": [
    "visualize_channels(ys[1])"
   ]
  },
  {
   "cell_type": "code",
   "execution_count": 27,
   "metadata": {},
   "outputs": [
    {
     "data": {
      "image/jpeg": "[encoded data removed]",
      "text/plain": [
       "<IPython.core.display.Image object>"
      ]
     },
     "metadata": {},
     "output_type": "display_data"
    }
   ],
   "source": [
    "imshow(zoom(classify_and_color(ca, activated)[1])) # see?"
   ]
  },
  {
   "cell_type": "markdown",
   "metadata": {},
   "source": [
    "## Signaling "
   ]
  },
  {
   "cell_type": "markdown",
   "metadata": {},
   "source": [
    "A possible pseudocode:\n",
    "\n",
    "```\n",
    "function make_communicating\n",
    "    take as input the n NCAs\n",
    "    add 2 additional channels # one for positions, one for labels\n",
    "    use those channels to implement signaling and message passing # (how?)\n",
    "    iterate until convergence # (what does that mean?)\n",
    "```\n",
    "\n",
    "Once that's done, we simply take the collective label from the extra channels, and we're done!"
   ]
  },
  {
   "cell_type": "code",
   "execution_count": 28,
   "metadata": {},
   "outputs": [
    {
     "data": {
      "text/plain": [
       "TensorShape([28, 56, 11])"
      ]
     },
     "execution_count": 28,
     "metadata": {},
     "output_type": "execute_result"
    }
   ],
   "source": [
    "# in this notebook, we work with n = 2\n",
    "united = tf.concat([activated[0], activated[1]], axis=1)\n",
    "\n",
    "united.shape"
   ]
  },
  {
   "cell_type": "code",
   "execution_count": 29,
   "metadata": {},
   "outputs": [
    {
     "data": {
      "image/png": "[encoded data removed]",
      "text/plain": [
       "<Figure size 1000x400 with 11 Axes>"
      ]
     },
     "metadata": {},
     "output_type": "display_data"
    }
   ],
   "source": [
    "visualize_channels(united)"
   ]
  },
  {
   "cell_type": "code",
   "execution_count": 30,
   "metadata": {},
   "outputs": [],
   "source": [
    "# we might get some useful information from these...\n",
    "def visualize_histograms(image, save_file=\"histograms.png\"):\n",
    "  num_channels = image.shape[-1]\n",
    "\n",
    "  # Create a figure with a vertical arrangement of subplots\n",
    "  fig, axes = plt.subplots(ncols=num_channels, figsize=(60, 7))\n",
    "\n",
    "  # Plot each channel as a grayscale image\n",
    "  for i in range(num_channels):\n",
    "    hist, _ = np.histogram(image[:, :, i], bins=256)\n",
    "    axes[i].bar(range(256), hist, width=1)\n",
    "    axes[i].set_title(f'{i + 1}')\n",
    "    axes[i].set_ylim([0, 200]) # the black pixels predominate\n",
    "\n",
    "  plt.savefig(save_file)\n",
    "  plt.tight_layout()\n",
    "  plt.show()"
   ]
  },
  {
   "cell_type": "code",
   "execution_count": 31,
   "metadata": {},
   "outputs": [
    {
     "data": {
      "image/png": "[encoded data removed]",
      "text/plain": [
       "<Figure size 6000x700 with 11 Axes>"
      ]
     },
     "metadata": {},
     "output_type": "display_data"
    }
   ],
   "source": [
    "visualize_histograms(united) # for a better visualization, check the png"
   ]
  },
  {
   "cell_type": "markdown",
   "metadata": {},
   "source": [
    "The histograms don't help much..."
   ]
  },
  {
   "cell_type": "code",
   "execution_count": 33,
   "metadata": {},
   "outputs": [],
   "source": [
    "def assign_numerical_label(ys):\n",
    "    # assigns a numerical label (0 or 1, in our case), given the labels in the format output by the model for a single datapoint (i.e. as a 28x28x2 tensor)\n",
    "    votes_zero = tf.reduce_sum(tf.cast(ys[0] > 0.1, tf.int32)) # only consider live cells\n",
    "    votes_one = tf.reduce_sum(tf.cast(ys[1] > 0.1, tf.int32))\n",
    "    return 0 if votes_zero > votes_one else 1\n",
    "    # TODO not quite: the liveness of the cell is determined from the gray channel (i.e. channel 0)"
   ]
  },
  {
   "cell_type": "code",
   "execution_count": 36,
   "metadata": {},
   "outputs": [
    {
     "data": {
      "text/plain": [
       "0"
      ]
     },
     "execution_count": 36,
     "metadata": {},
     "output_type": "execute_result"
    }
   ],
   "source": [
    "assign_numerical_label(ys)"
   ]
  },
  {
   "cell_type": "code",
   "execution_count": 32,
   "metadata": {},
   "outputs": [],
   "source": [
    "# get_label => turn the color into a label\n",
    "# assign_cells => need to assign cells to the label\n",
    "# for each living cell, let its signal propagate around"
   ]
  }
 ],
 "metadata": {
  "kernelspec": {
   "display_name": "project",
   "language": "python",
   "name": "python3"
  },
  "language_info": {
   "codemirror_mode": {
    "name": "ipython",
    "version": 3
   },
   "file_extension": ".py",
   "mimetype": "text/x-python",
   "name": "python",
   "nbconvert_exporter": "python",
   "pygments_lexer": "ipython3",
   "version": "3.11.5"
  },
  "orig_nbformat": 4
 },
 "nbformat": 4,
 "nbformat_minor": 2
}
