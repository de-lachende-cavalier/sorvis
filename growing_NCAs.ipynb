{
 "cells": [
  {
   "cell_type": "markdown",
   "metadata": {},
   "source": [
    "# Growing Neural Cellular Automata (the stripped-down version)"
   ]
  },
  {
   "cell_type": "markdown",
   "metadata": {},
   "source": [
    "This notebook contains a minimal version of the [code](https://github.com/google-research/self-organising-systems/blob/master/notebooks/growing_ca.ipynb) related to the Distill article on [Growing Neural Cellular Automata](https://distill.pub/2020/growing-ca/).\n",
    "\n",
    "The code is simplified, and so is the setting (for quicker training and experimentation.)\n",
    "\n",
    "Why include this code? To give a quick overview of the crucial parts of the system that will then make it easier to understand the successive application of NCAs to image classification."
   ]
  },
  {
   "cell_type": "code",
   "execution_count": 1,
   "metadata": {},
   "outputs": [],
   "source": [
    "import os\n",
    "import io\n",
    "import PIL.Image, PIL.ImageDraw\n",
    "import base64\n",
    "import requests\n",
    "import numpy as np\n",
    "import matplotlib.pylab as pl\n",
    "\n",
    "import tensorflow as tf\n",
    "from tensorflow.keras.layers import Conv2D\n",
    "\n",
    "from IPython.display import Image, clear_output"
   ]
  },
  {
   "cell_type": "code",
   "execution_count": 2,
   "metadata": {},
   "outputs": [],
   "source": [
    "clear_output()"
   ]
  },
  {
   "cell_type": "markdown",
   "metadata": {},
   "source": [
    "## Image manipulation utilities"
   ]
  },
  {
   "cell_type": "code",
   "execution_count": 3,
   "metadata": {},
   "outputs": [],
   "source": [
    "def np2pil(a):\n",
    "  if a.dtype in [np.float32, np.float64]:\n",
    "    a = np.uint8(np.clip(a, 0, 1)*255)\n",
    "  return PIL.Image.fromarray(a)\n",
    "\n",
    "def imwrite(f, a, fmt=None):\n",
    "  a = np.asarray(a)\n",
    "  if isinstance(f, str):\n",
    "    fmt = f.rsplit('.', 1)[-1].lower()\n",
    "    if fmt == 'jpg':\n",
    "      fmt = 'jpeg'\n",
    "    f = open(f, 'wb')\n",
    "  np2pil(a).save(f, fmt, quality=95)\n",
    "\n",
    "def imencode(a, fmt='jpeg'):\n",
    "  a = np.asarray(a)\n",
    "  f = io.BytesIO()\n",
    "  imwrite(f, a, fmt)\n",
    "  return f.getvalue()\n",
    "\n",
    "def im2url(a, fmt='jpeg'):\n",
    "  encoded = imencode(a, fmt)\n",
    "  base64_byte_string = base64.b64encode(encoded).decode('ascii')\n",
    "  return 'data:image/' + fmt.upper() + ';base64,' + base64_byte_string\n",
    "\n",
    "def imshow(a, fmt='jpeg'):\n",
    "  display(Image(data=imencode(a, fmt)))\n",
    "\n",
    "def tile2d(a, w=None):\n",
    "  a = np.asarray(a)\n",
    "\n",
    "  if w is None:\n",
    "    w = int(np.ceil(np.sqrt(len(a))))\n",
    "\n",
    "  th, tw = a.shape[1:3]\n",
    "  pad = (w - len(a)) % w\n",
    "  a = np.pad(a, [(0, pad)] + [(0, 0)] * (a.ndim - 1), 'constant')\n",
    "  h = len(a) // w\n",
    "\n",
    "  a = a.reshape([h, w] + list(a.shape[1:]))\n",
    "  a = np.rollaxis(a, 2, 1).reshape([th * h, tw * w])\n",
    "  return a\n",
    "\n",
    "def load_image(url, max_size):\n",
    "  r = requests.get(url)\n",
    "  img = PIL.Image.open(io.BytesIO(r.content))\n",
    "  img.thumbnail((max_size, max_size), PIL.Image.LANCZOS)\n",
    "  # convert image to grayscale (RGB is not essential and slows down training)\n",
    "  img = img.convert('L')\n",
    "  img = np.float32(img) / 255.0\n",
    "  return img\n",
    "\n",
    "def load_emoji(emoji, max_size):\n",
    "  code = hex(ord(emoji))[2:].lower()\n",
    "  url = 'https://github.com/googlefonts/noto-emoji/blob/main/png/128/emoji_u%s.png?raw=true' % code\n",
    "  return load_image(url, max_size)\n",
    "\n",
    "# adds an alpha channel to the original grayscale image (determines \"liveness\")\n",
    "def add_alpha(x):\n",
    "  # adding a dummy alpha channel with full opacity\n",
    "  alpha_channel = np.ones_like(x)[..., None]\n",
    "  return np.concatenate([x[..., None], alpha_channel], axis=-1)\n",
    "\n",
    "# return only the first two channels (grayscale and alpha)\n",
    "def to_la(x):\n",
    "  return x[..., :2]\n",
    "\n",
    "def to_alpha(x):\n",
    "  return tf.clip_by_value(x[..., 1:2], 0.0, 1.0)\n",
    "\n",
    "def zoom(img, scale=4):\n",
    "  img = np.repeat(img, scale, 0)\n",
    "  img = np.repeat(img, scale, 1)\n",
    "  return img"
   ]
  },
  {
   "cell_type": "code",
   "execution_count": 4,
   "metadata": {},
   "outputs": [
    {
     "data": {
      "image/jpeg": "[encoded data removed]",
      "text/plain": [
       "<IPython.core.display.Image object>"
      ]
     },
     "metadata": {},
     "output_type": "display_data"
    }
   ],
   "source": [
    "# let's check that everything works as expected... (you might want to change max_size at training time...)\n",
    "emoji = \"🚀\" # insert your favourite emoji here\n",
    "img = load_emoji(emoji, max_size=90)\n",
    "imshow(zoom(img, 2))"
   ]
  },
  {
   "cell_type": "markdown",
   "metadata": {},
   "source": [
    "## Model definition and hypeparameters"
   ]
  },
  {
   "cell_type": "code",
   "execution_count": 6,
   "metadata": {},
   "outputs": [],
   "source": [
    "CHANNEL_N = 10 # number of CA state channels\n",
    "TARGET_PADDING = 12 # number of pixels used to pad the target image border\n",
    "TARGET_SIZE = 10\n",
    "BATCH_SIZE = 8\n",
    "POOL_SIZE = 128\n",
    "CELL_FIRE_RATE = 0.5\n",
    "\n",
    "TARGET_EMOJI = \"🔴\""
   ]
  },
  {
   "cell_type": "markdown",
   "metadata": {},
   "source": [
    "Let's define some utilities."
   ]
  },
  {
   "cell_type": "code",
   "execution_count": 7,
   "metadata": {},
   "outputs": [],
   "source": [
    "# check if the cell is alive\n",
    "def get_living_mask(x):\n",
    "  alpha = x[:, :, :, 1:2]\n",
    "  return tf.nn.max_pool2d(alpha, 3, [1, 1, 1, 1], 'SAME') > 0.1"
   ]
  },
  {
   "cell_type": "code",
   "execution_count": 8,
   "metadata": {},
   "outputs": [],
   "source": [
    "class CAModel(tf.keras.Model):\n",
    "  def __init__(self, channel_n=CHANNEL_N, fire_rate=CELL_FIRE_RATE):\n",
    "    super().__init__()\n",
    "    self.channel_n = channel_n\n",
    "    self.fire_rate = fire_rate\n",
    "\n",
    "    self.dmodel = tf.keras.Sequential([\n",
    "          Conv2D(128, 1, activation=tf.nn.relu),\n",
    "          Conv2D(self.channel_n, 1, activation=None,\n",
    "              kernel_initializer=tf.zeros_initializer),\n",
    "    ])\n",
    "\n",
    "    self(tf.zeros([1, 3, 3, channel_n])) # dummy call to build the model\n",
    "\n",
    "  @tf.function\n",
    "  def perceive(self, x, angle=0.0):\n",
    "    identify = np.float32([0, 1, 0])\n",
    "    identify = np.outer(identify, identify)\n",
    "    dx = np.outer([1, 2, 1], [-1, 0, 1]) / 8.0 # Sobel filter\n",
    "    dy = dx.T\n",
    "    c, s = tf.cos(angle), tf.sin(angle)\n",
    "    kernel = tf.stack([identify, c*dx-s*dy, s*dx+c*dy], -1)[:, :, None, :]\n",
    "    kernel = tf.repeat(kernel, self.channel_n, 2)\n",
    "\n",
    "    y = tf.nn.depthwise_conv2d(x, kernel, [1, 1, 1, 1], 'SAME')\n",
    "    return y\n",
    "\n",
    "  @tf.function\n",
    "  def call(self, x, fire_rate=None, angle=0.0, step_size=1.0):\n",
    "    pre_life_mask = get_living_mask(x)\n",
    "\n",
    "    y = self.perceive(x, angle)\n",
    "    dx = self.dmodel(y)*step_size\n",
    "    if fire_rate is None:\n",
    "      fire_rate = self.fire_rate\n",
    "    update_mask = tf.random.uniform(tf.shape(x[:, :, :, :1])) <= fire_rate\n",
    "    x += dx * tf.cast(update_mask, tf.float32)\n",
    "\n",
    "    post_life_mask = get_living_mask(x)\n",
    "    life_mask = pre_life_mask & post_life_mask\n",
    "    return x * tf.cast(life_mask, tf.float32)"
   ]
  },
  {
   "cell_type": "code",
   "execution_count": 9,
   "metadata": {},
   "outputs": [
    {
     "name": "stderr",
     "output_type": "stream",
     "text": [
      "2023-08-13 15:28:24.396056: I metal_plugin/src/device/metal_device.cc:1154] Metal device set to: Apple M1 Pro\n",
      "2023-08-13 15:28:24.396075: I metal_plugin/src/device/metal_device.cc:296] systemMemory: 16.00 GB\n",
      "2023-08-13 15:28:24.396083: I metal_plugin/src/device/metal_device.cc:313] maxCacheSize: 5.33 GB\n",
      "2023-08-13 15:28:24.396113: I tensorflow/core/common_runtime/pluggable_device/pluggable_device_factory.cc:303] Could not identify NUMA node of platform GPU ID 0, defaulting to 0. Your kernel may not have been built with NUMA support.\n",
      "2023-08-13 15:28:24.396130: I tensorflow/core/common_runtime/pluggable_device/pluggable_device_factory.cc:269] Created TensorFlow device (/job:localhost/replica:0/task:0/device:GPU:0 with 0 MB memory) -> physical PluggableDevice (device: 0, name: METAL, pci bus id: <undefined>)\n"
     ]
    },
    {
     "name": "stdout",
     "output_type": "stream",
     "text": [
      "Model: \"sequential\"\n",
      "_________________________________________________________________\n",
      " Layer (type)                Output Shape              Param #   \n",
      "=================================================================\n",
      " conv2d (Conv2D)             (1, 3, 3, 128)            3968      \n",
      "                                                                 \n",
      " conv2d_1 (Conv2D)           (1, 3, 3, 10)             1290      \n",
      "                                                                 \n",
      "=================================================================\n",
      "Total params: 5258 (20.54 KB)\n",
      "Trainable params: 5258 (20.54 KB)\n",
      "Non-trainable params: 0 (0.00 Byte)\n",
      "_________________________________________________________________\n"
     ]
    },
    {
     "name": "stderr",
     "output_type": "stream",
     "text": [
      "2023-08-13 15:28:24.633276: I tensorflow/core/grappler/optimizers/custom_graph_optimizer_registry.cc:114] Plugin optimizer for device_type GPU is enabled.\n"
     ]
    }
   ],
   "source": [
    "CAModel().dmodel.summary()"
   ]
  },
  {
   "cell_type": "markdown",
   "metadata": {},
   "source": [
    "## Training"
   ]
  },
  {
   "cell_type": "markdown",
   "metadata": {},
   "source": [
    "### Preparation code."
   ]
  },
  {
   "cell_type": "code",
   "execution_count": 10,
   "metadata": {},
   "outputs": [],
   "source": [
    "class SamplePool:\n",
    "  def __init__(self, *, _parent=None, _parent_idx=None, **slots):\n",
    "    self._parent = _parent\n",
    "    self._parent_idx = _parent_idx\n",
    "    self._slot_names = slots.keys()\n",
    "    self._size = None\n",
    "    for k, v in slots.items():\n",
    "      if self._size is None:\n",
    "        self._size = len(v)\n",
    "      assert self._size == len(v)\n",
    "      setattr(self, k, np.asarray(v))\n",
    "\n",
    "  def sample(self, n):\n",
    "    idx = np.random.choice(self._size, n, False)\n",
    "    batch = {k: getattr(self, k)[idx] for k in self._slot_names}\n",
    "    batch = SamplePool(**batch, _parent=self, _parent_idx=idx)\n",
    "    return batch\n",
    "\n",
    "  def commit(self):\n",
    "    for k in self._slot_names:\n",
    "      getattr(self._parent, k)[self._parent_idx] = getattr(self, k)"
   ]
  },
  {
   "cell_type": "code",
   "execution_count": 11,
   "metadata": {},
   "outputs": [],
   "source": [
    "def generate_pool_figures(pool, step_i):\n",
    "  tiled_pool = tile2d(pool.x[:49, :, :, :1])\n",
    "  ones = np.ones(72)\n",
    "  tiled_pool[:, :72] += (-tiled_pool[:, :72] + ones[None, :])\n",
    "  tiled_pool[:, -72:] += (-tiled_pool[:, -72:] + ones[None, :])\n",
    "  tiled_pool[:72, :] += (-tiled_pool[:72, :] + ones[:, None])\n",
    "  tiled_pool[-72:, :] += (-tiled_pool[-72:, :] + ones[:, None])\n",
    "  imwrite('train_log/%04d_pool.jpg' % step_i, tiled_pool)\n",
    "\n",
    "def visualize_batch(x0, x, step_i):\n",
    "  vis0 = np.hstack(x0[..., :1])\n",
    "  vis1 = np.hstack(x[..., :1])\n",
    "  vis = np.vstack([vis0, vis1])\n",
    "  vis = np.squeeze(vis, axis=-1) # for imwrite and imshow\n",
    "  imwrite('train_log/batches_%04d.jpg' % step_i, vis)\n",
    "  print('batch (before/after):')\n",
    "  imshow(vis)\n",
    "\n",
    "def loss_f(x, target):\n",
    "  return tf.reduce_mean(tf.square(to_la(x) - target), [-2, -3, -1])\n",
    "\n",
    "def plot_loss(loss_log):\n",
    "  pl.figure(figsize=(10, 4))\n",
    "  pl.title('Loss history (log10)')\n",
    "  pl.plot(np.log10(loss_log), '.', alpha=0.5)\n",
    "  pl.show()"
   ]
  },
  {
   "cell_type": "code",
   "execution_count": 12,
   "metadata": {},
   "outputs": [
    {
     "data": {
      "image/png": "[encoded data removed]",
      "text/plain": [
       "<IPython.core.display.Image object>"
      ]
     },
     "metadata": {},
     "output_type": "display_data"
    }
   ],
   "source": [
    "target_img = add_alpha(load_emoji(TARGET_EMOJI, max_size=TARGET_SIZE))\n",
    "imshow(zoom(target_img, 2), fmt='png')"
   ]
  },
  {
   "cell_type": "code",
   "execution_count": 13,
   "metadata": {},
   "outputs": [],
   "source": [
    "p = TARGET_PADDING\n",
    "pad_target = tf.pad(target_img, [(p, p), (p, p), (0, 0)])\n",
    "h, w = pad_target.shape[:2]\n",
    "\n",
    "seed = np.zeros([h, w, CHANNEL_N], np.float32)\n",
    "seed[h // 2, w // 2, 0] = 1.0  # for the grayscale channel\n",
    "seed[h // 2, w // 2, 1:] = 1.0"
   ]
  },
  {
   "cell_type": "markdown",
   "metadata": {},
   "source": [
    "Let's instantiate our model and loss and wrap up the preparations!"
   ]
  },
  {
   "cell_type": "code",
   "execution_count": 14,
   "metadata": {},
   "outputs": [
    {
     "name": "stderr",
     "output_type": "stream",
     "text": [
      "2023-08-13 15:28:25.115214: I tensorflow/core/grappler/optimizers/custom_graph_optimizer_registry.cc:114] Plugin optimizer for device_type GPU is enabled.\n"
     ]
    }
   ],
   "source": [
    "ca = CAModel()\n",
    "\n",
    "loss_log = []\n",
    "\n",
    "lr = 2e-3\n",
    "lr_sched = tf.keras.optimizers.schedules.PiecewiseConstantDecay(\n",
    "    [2000], [lr, lr*0.1])\n",
    "trainer = tf.keras.optimizers.legacy.RMSprop(lr_sched)\n",
    "\n",
    "loss0 = loss_f(seed, pad_target).numpy()\n",
    "pool = SamplePool(x=np.repeat(seed[None, ...], POOL_SIZE, 0))"
   ]
  },
  {
   "cell_type": "code",
   "execution_count": 15,
   "metadata": {},
   "outputs": [],
   "source": [
    "!mkdir -p train_log && rm -f train_log/*"
   ]
  },
  {
   "cell_type": "markdown",
   "metadata": {},
   "source": [
    "### Carry out training."
   ]
  },
  {
   "cell_type": "code",
   "execution_count": 16,
   "metadata": {},
   "outputs": [
    {
     "name": "stdout",
     "output_type": "stream",
     "text": [
      "batch (before/after):\n"
     ]
    },
    {
     "data": {
      "image/jpeg": "[encoded data removed]",
      "text/plain": [
       "<IPython.core.display.Image object>"
      ]
     },
     "metadata": {},
     "output_type": "display_data"
    },
    {
     "data": {
      "image/png": "[encoded data removed]",
      "text/plain": [
       "<Figure size 1000x400 with 1 Axes>"
      ]
     },
     "metadata": {},
     "output_type": "display_data"
    },
    {
     "name": "stdout",
     "output_type": "stream",
     "text": [
      " step: 1190, log10(loss): -2.374"
     ]
    },
    {
     "ename": "KeyboardInterrupt",
     "evalue": "",
     "output_type": "error",
     "traceback": [
      "\u001b[0;31m---------------------------------------------------------------------------\u001b[0m",
      "\u001b[0;31mKeyboardInterrupt\u001b[0m                         Traceback (most recent call last)",
      "Cell \u001b[0;32mIn[16], line 20\u001b[0m\n\u001b[1;32m     17\u001b[0m x0 \u001b[39m=\u001b[39m x0[loss_rank]\n\u001b[1;32m     18\u001b[0m x0[:\u001b[39m1\u001b[39m] \u001b[39m=\u001b[39m seed\n\u001b[0;32m---> 20\u001b[0m x, loss \u001b[39m=\u001b[39m train_step(x0)\n\u001b[1;32m     22\u001b[0m batch\u001b[39m.\u001b[39mx[:] \u001b[39m=\u001b[39m x\n\u001b[1;32m     23\u001b[0m batch\u001b[39m.\u001b[39mcommit()\n",
      "File \u001b[0;32m~/Desktop/uni/vision/project/lib/python3.11/site-packages/tensorflow/python/util/traceback_utils.py:150\u001b[0m, in \u001b[0;36mfilter_traceback.<locals>.error_handler\u001b[0;34m(*args, **kwargs)\u001b[0m\n\u001b[1;32m    148\u001b[0m filtered_tb \u001b[39m=\u001b[39m \u001b[39mNone\u001b[39;00m\n\u001b[1;32m    149\u001b[0m \u001b[39mtry\u001b[39;00m:\n\u001b[0;32m--> 150\u001b[0m   \u001b[39mreturn\u001b[39;00m fn(\u001b[39m*\u001b[39;49margs, \u001b[39m*\u001b[39;49m\u001b[39m*\u001b[39;49mkwargs)\n\u001b[1;32m    151\u001b[0m \u001b[39mexcept\u001b[39;00m \u001b[39mException\u001b[39;00m \u001b[39mas\u001b[39;00m e:\n\u001b[1;32m    152\u001b[0m   filtered_tb \u001b[39m=\u001b[39m _process_traceback_frames(e\u001b[39m.\u001b[39m__traceback__)\n",
      "File \u001b[0;32m~/Desktop/uni/vision/project/lib/python3.11/site-packages/tensorflow/python/eager/polymorphic_function/polymorphic_function.py:825\u001b[0m, in \u001b[0;36mFunction.__call__\u001b[0;34m(self, *args, **kwds)\u001b[0m\n\u001b[1;32m    822\u001b[0m compiler \u001b[39m=\u001b[39m \u001b[39m\"\u001b[39m\u001b[39mxla\u001b[39m\u001b[39m\"\u001b[39m \u001b[39mif\u001b[39;00m \u001b[39mself\u001b[39m\u001b[39m.\u001b[39m_jit_compile \u001b[39melse\u001b[39;00m \u001b[39m\"\u001b[39m\u001b[39mnonXla\u001b[39m\u001b[39m\"\u001b[39m\n\u001b[1;32m    824\u001b[0m \u001b[39mwith\u001b[39;00m OptionalXlaContext(\u001b[39mself\u001b[39m\u001b[39m.\u001b[39m_jit_compile):\n\u001b[0;32m--> 825\u001b[0m   result \u001b[39m=\u001b[39m \u001b[39mself\u001b[39;49m\u001b[39m.\u001b[39;49m_call(\u001b[39m*\u001b[39;49margs, \u001b[39m*\u001b[39;49m\u001b[39m*\u001b[39;49mkwds)\n\u001b[1;32m    827\u001b[0m new_tracing_count \u001b[39m=\u001b[39m \u001b[39mself\u001b[39m\u001b[39m.\u001b[39mexperimental_get_tracing_count()\n\u001b[1;32m    828\u001b[0m without_tracing \u001b[39m=\u001b[39m (tracing_count \u001b[39m==\u001b[39m new_tracing_count)\n",
      "File \u001b[0;32m~/Desktop/uni/vision/project/lib/python3.11/site-packages/tensorflow/python/eager/polymorphic_function/polymorphic_function.py:857\u001b[0m, in \u001b[0;36mFunction._call\u001b[0;34m(self, *args, **kwds)\u001b[0m\n\u001b[1;32m    854\u001b[0m   \u001b[39mself\u001b[39m\u001b[39m.\u001b[39m_lock\u001b[39m.\u001b[39mrelease()\n\u001b[1;32m    855\u001b[0m   \u001b[39m# In this case we have created variables on the first call, so we run the\u001b[39;00m\n\u001b[1;32m    856\u001b[0m   \u001b[39m# defunned version which is guaranteed to never create variables.\u001b[39;00m\n\u001b[0;32m--> 857\u001b[0m   \u001b[39mreturn\u001b[39;00m \u001b[39mself\u001b[39;49m\u001b[39m.\u001b[39;49m_no_variable_creation_fn(\u001b[39m*\u001b[39;49margs, \u001b[39m*\u001b[39;49m\u001b[39m*\u001b[39;49mkwds)  \u001b[39m# pylint: disable=not-callable\u001b[39;00m\n\u001b[1;32m    858\u001b[0m \u001b[39melif\u001b[39;00m \u001b[39mself\u001b[39m\u001b[39m.\u001b[39m_variable_creation_fn \u001b[39mis\u001b[39;00m \u001b[39mnot\u001b[39;00m \u001b[39mNone\u001b[39;00m:\n\u001b[1;32m    859\u001b[0m   \u001b[39m# Release the lock early so that multiple threads can perform the call\u001b[39;00m\n\u001b[1;32m    860\u001b[0m   \u001b[39m# in parallel.\u001b[39;00m\n\u001b[1;32m    861\u001b[0m   \u001b[39mself\u001b[39m\u001b[39m.\u001b[39m_lock\u001b[39m.\u001b[39mrelease()\n",
      "File \u001b[0;32m~/Desktop/uni/vision/project/lib/python3.11/site-packages/tensorflow/python/eager/polymorphic_function/tracing_compiler.py:148\u001b[0m, in \u001b[0;36mTracingCompiler.__call__\u001b[0;34m(self, *args, **kwargs)\u001b[0m\n\u001b[1;32m    145\u001b[0m \u001b[39mwith\u001b[39;00m \u001b[39mself\u001b[39m\u001b[39m.\u001b[39m_lock:\n\u001b[1;32m    146\u001b[0m   (concrete_function,\n\u001b[1;32m    147\u001b[0m    filtered_flat_args) \u001b[39m=\u001b[39m \u001b[39mself\u001b[39m\u001b[39m.\u001b[39m_maybe_define_function(args, kwargs)\n\u001b[0;32m--> 148\u001b[0m \u001b[39mreturn\u001b[39;00m concrete_function\u001b[39m.\u001b[39;49m_call_flat(\n\u001b[1;32m    149\u001b[0m     filtered_flat_args, captured_inputs\u001b[39m=\u001b[39;49mconcrete_function\u001b[39m.\u001b[39;49mcaptured_inputs)\n",
      "File \u001b[0;32m~/Desktop/uni/vision/project/lib/python3.11/site-packages/tensorflow/python/eager/polymorphic_function/monomorphic_function.py:1349\u001b[0m, in \u001b[0;36mConcreteFunction._call_flat\u001b[0;34m(self, args, captured_inputs)\u001b[0m\n\u001b[1;32m   1345\u001b[0m possible_gradient_type \u001b[39m=\u001b[39m gradients_util\u001b[39m.\u001b[39mPossibleTapeGradientTypes(args)\n\u001b[1;32m   1346\u001b[0m \u001b[39mif\u001b[39;00m (possible_gradient_type \u001b[39m==\u001b[39m gradients_util\u001b[39m.\u001b[39mPOSSIBLE_GRADIENT_TYPES_NONE\n\u001b[1;32m   1347\u001b[0m     \u001b[39mand\u001b[39;00m executing_eagerly):\n\u001b[1;32m   1348\u001b[0m   \u001b[39m# No tape is watching; skip to running the function.\u001b[39;00m\n\u001b[0;32m-> 1349\u001b[0m   \u001b[39mreturn\u001b[39;00m \u001b[39mself\u001b[39m\u001b[39m.\u001b[39m_build_call_outputs(\u001b[39mself\u001b[39;49m\u001b[39m.\u001b[39;49m_inference_function(\u001b[39m*\u001b[39;49margs))\n\u001b[1;32m   1350\u001b[0m forward_backward \u001b[39m=\u001b[39m \u001b[39mself\u001b[39m\u001b[39m.\u001b[39m_select_forward_and_backward_functions(\n\u001b[1;32m   1351\u001b[0m     args,\n\u001b[1;32m   1352\u001b[0m     possible_gradient_type,\n\u001b[1;32m   1353\u001b[0m     executing_eagerly)\n\u001b[1;32m   1354\u001b[0m forward_function, args_with_tangents \u001b[39m=\u001b[39m forward_backward\u001b[39m.\u001b[39mforward()\n",
      "File \u001b[0;32m~/Desktop/uni/vision/project/lib/python3.11/site-packages/tensorflow/python/eager/polymorphic_function/atomic_function.py:196\u001b[0m, in \u001b[0;36mAtomicFunction.__call__\u001b[0;34m(self, *args)\u001b[0m\n\u001b[1;32m    194\u001b[0m \u001b[39mwith\u001b[39;00m record\u001b[39m.\u001b[39mstop_recording():\n\u001b[1;32m    195\u001b[0m   \u001b[39mif\u001b[39;00m \u001b[39mself\u001b[39m\u001b[39m.\u001b[39m_bound_context\u001b[39m.\u001b[39mexecuting_eagerly():\n\u001b[0;32m--> 196\u001b[0m     outputs \u001b[39m=\u001b[39m \u001b[39mself\u001b[39;49m\u001b[39m.\u001b[39;49m_bound_context\u001b[39m.\u001b[39;49mcall_function(\n\u001b[1;32m    197\u001b[0m         \u001b[39mself\u001b[39;49m\u001b[39m.\u001b[39;49mname,\n\u001b[1;32m    198\u001b[0m         \u001b[39mlist\u001b[39;49m(args),\n\u001b[1;32m    199\u001b[0m         \u001b[39mlen\u001b[39;49m(\u001b[39mself\u001b[39;49m\u001b[39m.\u001b[39;49mfunction_type\u001b[39m.\u001b[39;49mflat_outputs),\n\u001b[1;32m    200\u001b[0m     )\n\u001b[1;32m    201\u001b[0m   \u001b[39melse\u001b[39;00m:\n\u001b[1;32m    202\u001b[0m     outputs \u001b[39m=\u001b[39m make_call_op_in_graph(\u001b[39mself\u001b[39m, \u001b[39mlist\u001b[39m(args))\n",
      "File \u001b[0;32m~/Desktop/uni/vision/project/lib/python3.11/site-packages/tensorflow/python/eager/context.py:1457\u001b[0m, in \u001b[0;36mContext.call_function\u001b[0;34m(self, name, tensor_inputs, num_outputs)\u001b[0m\n\u001b[1;32m   1455\u001b[0m cancellation_context \u001b[39m=\u001b[39m cancellation\u001b[39m.\u001b[39mcontext()\n\u001b[1;32m   1456\u001b[0m \u001b[39mif\u001b[39;00m cancellation_context \u001b[39mis\u001b[39;00m \u001b[39mNone\u001b[39;00m:\n\u001b[0;32m-> 1457\u001b[0m   outputs \u001b[39m=\u001b[39m execute\u001b[39m.\u001b[39;49mexecute(\n\u001b[1;32m   1458\u001b[0m       name\u001b[39m.\u001b[39;49mdecode(\u001b[39m\"\u001b[39;49m\u001b[39mutf-8\u001b[39;49m\u001b[39m\"\u001b[39;49m),\n\u001b[1;32m   1459\u001b[0m       num_outputs\u001b[39m=\u001b[39;49mnum_outputs,\n\u001b[1;32m   1460\u001b[0m       inputs\u001b[39m=\u001b[39;49mtensor_inputs,\n\u001b[1;32m   1461\u001b[0m       attrs\u001b[39m=\u001b[39;49mattrs,\n\u001b[1;32m   1462\u001b[0m       ctx\u001b[39m=\u001b[39;49m\u001b[39mself\u001b[39;49m,\n\u001b[1;32m   1463\u001b[0m   )\n\u001b[1;32m   1464\u001b[0m \u001b[39melse\u001b[39;00m:\n\u001b[1;32m   1465\u001b[0m   outputs \u001b[39m=\u001b[39m execute\u001b[39m.\u001b[39mexecute_with_cancellation(\n\u001b[1;32m   1466\u001b[0m       name\u001b[39m.\u001b[39mdecode(\u001b[39m\"\u001b[39m\u001b[39mutf-8\u001b[39m\u001b[39m\"\u001b[39m),\n\u001b[1;32m   1467\u001b[0m       num_outputs\u001b[39m=\u001b[39mnum_outputs,\n\u001b[0;32m   (...)\u001b[0m\n\u001b[1;32m   1471\u001b[0m       cancellation_manager\u001b[39m=\u001b[39mcancellation_context,\n\u001b[1;32m   1472\u001b[0m   )\n",
      "File \u001b[0;32m~/Desktop/uni/vision/project/lib/python3.11/site-packages/tensorflow/python/eager/execute.py:53\u001b[0m, in \u001b[0;36mquick_execute\u001b[0;34m(op_name, num_outputs, inputs, attrs, ctx, name)\u001b[0m\n\u001b[1;32m     51\u001b[0m \u001b[39mtry\u001b[39;00m:\n\u001b[1;32m     52\u001b[0m   ctx\u001b[39m.\u001b[39mensure_initialized()\n\u001b[0;32m---> 53\u001b[0m   tensors \u001b[39m=\u001b[39m pywrap_tfe\u001b[39m.\u001b[39;49mTFE_Py_Execute(ctx\u001b[39m.\u001b[39;49m_handle, device_name, op_name,\n\u001b[1;32m     54\u001b[0m                                       inputs, attrs, num_outputs)\n\u001b[1;32m     55\u001b[0m \u001b[39mexcept\u001b[39;00m core\u001b[39m.\u001b[39m_NotOkStatusException \u001b[39mas\u001b[39;00m e:\n\u001b[1;32m     56\u001b[0m   \u001b[39mif\u001b[39;00m name \u001b[39mis\u001b[39;00m \u001b[39mnot\u001b[39;00m \u001b[39mNone\u001b[39;00m:\n",
      "\u001b[0;31mKeyboardInterrupt\u001b[0m: "
     ]
    }
   ],
   "source": [
    "@tf.function\n",
    "def train_step(x):\n",
    "  iter_n = tf.random.uniform([], 64, 96, tf.int32)\n",
    "  with tf.GradientTape() as g:\n",
    "    for i in tf.range(iter_n):\n",
    "      x = ca(x)\n",
    "    loss = tf.reduce_mean(loss_f(x, pad_target))\n",
    "  grads = g.gradient(loss, ca.weights)\n",
    "  grads = [g/(tf.norm(g)+1e-8) for g in grads]\n",
    "  trainer.apply_gradients(zip(grads, ca.weights))\n",
    "  return x, loss\n",
    "\n",
    "for i in range(8000+1):\n",
    "  batch = pool.sample(BATCH_SIZE)\n",
    "  x0 = batch.x\n",
    "  loss_rank = loss_f(x0, pad_target).numpy().argsort()[::-1]\n",
    "  x0 = x0[loss_rank]\n",
    "  x0[:1] = seed\n",
    "\n",
    "  x, loss = train_step(x0)\n",
    "\n",
    "  batch.x[:] = x\n",
    "  batch.commit()\n",
    "\n",
    "  step_i = len(loss_log)\n",
    "  loss_log.append(loss.numpy())\n",
    "  \n",
    "  if step_i % 10 == 0:\n",
    "    generate_pool_figures(pool, step_i)\n",
    "\n",
    "  if step_i % 10 == 0:\n",
    "    clear_output()\n",
    "    visualize_batch(x0, x, step_i)\n",
    "    plot_loss(loss_log)\n",
    "\n",
    "  print('\\r step: %d, log10(loss): %.3f' % (len(loss_log), np.log10(loss)), end='')"
   ]
  },
  {
   "cell_type": "code",
   "execution_count": null,
   "metadata": {},
   "outputs": [],
   "source": []
  }
 ],
 "metadata": {
  "kernelspec": {
   "display_name": "project",
   "language": "python",
   "name": "python3"
  },
  "language_info": {
   "codemirror_mode": {
    "name": "ipython",
    "version": 3
   },
   "file_extension": ".py",
   "mimetype": "text/x-python",
   "name": "python",
   "nbconvert_exporter": "python",
   "pygments_lexer": "ipython3",
   "version": "3.11.4"
  },
  "orig_nbformat": 4
 },
 "nbformat": 4,
 "nbformat_minor": 2
}
