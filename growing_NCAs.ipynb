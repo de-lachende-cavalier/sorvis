{
 "cells": [
  {
   "cell_type": "markdown",
   "metadata": {},
   "source": [
    "# Growing Neural Cellular Automata (the stripped-down version)"
   ]
  },
  {
   "cell_type": "markdown",
   "metadata": {},
   "source": [
    "This notebook contains a minimal version of the [code](https://github.com/google-research/self-organising-systems/blob/master/notebooks/growing_ca.ipynb) related to the Distill article on [Growing Neural Cellular Automata](https://distill.pub/2020/growing-ca/).\n",
    "\n",
    "The code is simplified, and so is the setting (for quicker training and experimentation.)\n",
    "\n",
    "The code is included to give a quick overview of the crucial parts of the system, which should then make it easier to understand the successive application of NCAs to image classification.\n",
    "(Also, I needed a cleaner version of the code, without all the bells an whistles in the original version, to aid my own understanding...)"
   ]
  },
  {
   "cell_type": "code",
   "execution_count": 13,
   "metadata": {},
   "outputs": [],
   "source": [
    "import io\n",
    "import PIL.Image, PIL.ImageDraw\n",
    "import base64\n",
    "import requests\n",
    "import numpy as np\n",
    "import matplotlib.pylab as pl\n",
    "\n",
    "import tensorflow as tf\n",
    "from tensorflow.keras.layers import Conv2D"
   ]
  },
  {
   "cell_type": "markdown",
   "metadata": {},
   "source": [
    "## Image manipulation utilities"
   ]
  },
  {
   "cell_type": "markdown",
   "metadata": {},
   "source": [
    "The cell below contains some useful functions for manipulating images. The code is mostly the same as in the original version, with some slight modification."
   ]
  },
  {
   "cell_type": "code",
   "execution_count": 14,
   "metadata": {},
   "outputs": [],
   "source": [
    "def np2pil(a):\n",
    "  if a.dtype in [np.float32, np.float64]:\n",
    "    a = np.uint8(np.clip(a, 0, 1)*255)\n",
    "  return PIL.Image.fromarray(a)\n",
    "\n",
    "def imwrite(f, a, fmt=None):\n",
    "  a = np.asarray(a)\n",
    "  if isinstance(f, str):\n",
    "    fmt = f.rsplit('.', 1)[-1].lower()\n",
    "    if fmt == 'jpg':\n",
    "      fmt = 'jpeg'\n",
    "    f = open(f, 'wb')\n",
    "  np2pil(a).save(f, fmt, quality=95)\n",
    "\n",
    "def imencode(a, fmt='jpeg'):\n",
    "  a = np.asarray(a)\n",
    "  f = io.BytesIO()\n",
    "  imwrite(f, a, fmt)\n",
    "  return f.getvalue()\n",
    "\n",
    "def im2url(a, fmt='jpeg'):\n",
    "  encoded = imencode(a, fmt)\n",
    "  base64_byte_string = base64.b64encode(encoded).decode('ascii')\n",
    "  return 'data:image/' + fmt.upper() + ';base64,' + base64_byte_string\n",
    "\n",
    "def imshow(a, fmt='jpeg'):\n",
    "  display(Image(data=imencode(a, fmt)))\n",
    "\n",
    "def tile2d(a, w=None):\n",
    "  a = np.asarray(a)\n",
    "\n",
    "  if w is None:\n",
    "    w = int(np.ceil(np.sqrt(len(a))))\n",
    "\n",
    "  th, tw = a.shape[1:3]\n",
    "  pad = (w - len(a)) % w\n",
    "  a = np.pad(a, [(0, pad)] + [(0, 0)] * (a.ndim - 1), 'constant')\n",
    "  h = len(a) // w\n",
    "\n",
    "  a = a.reshape([h, w] + list(a.shape[1:]))\n",
    "  a = np.rollaxis(a, 2, 1).reshape([th * h, tw * w])\n",
    "  return a\n",
    "\n",
    "def load_image(url, max_size):\n",
    "  r = requests.get(url)\n",
    "  img = PIL.Image.open(io.BytesIO(r.content))\n",
    "  img.thumbnail((max_size, max_size), PIL.Image.LANCZOS)\n",
    "  # convert image to grayscale (RGB is not essential and slows down training)\n",
    "  img = img.convert('L')\n",
    "  img = np.float32(img) / 255.0\n",
    "  return img\n",
    "\n",
    "def load_emoji(emoji, max_size):\n",
    "  code = hex(ord(emoji))[2:].lower()\n",
    "  url = 'https://github.com/googlefonts/noto-emoji/blob/main/png/128/emoji_u%s.png?raw=true' % code\n",
    "  return load_image(url, max_size)\n",
    "\n",
    "# adds an alpha channel to the original grayscale image (determines \"liveness\")\n",
    "def add_alpha(x):\n",
    "  # adding a dummy alpha channel with full opacity\n",
    "  alpha_channel = np.ones_like(x)[..., None]\n",
    "  return np.concatenate([x[..., None], alpha_channel], axis=-1)\n",
    "\n",
    "# return only the first two channels (grayscale and alpha)\n",
    "def to_la(x):\n",
    "  return x[..., :2]\n",
    "\n",
    "def to_alpha(x):\n",
    "  return tf.clip_by_value(x[..., 1:2], 0.0, 1.0)\n",
    "\n",
    "def zoom(img, scale=4):\n",
    "  img = np.repeat(img, scale, 0)\n",
    "  img = np.repeat(img, scale, 1)\n",
    "  return img"
   ]
  },
  {
   "cell_type": "code",
   "execution_count": 15,
   "metadata": {},
   "outputs": [
    {
     "data": {
      "image/jpeg": "[encoded data removed]",
      "text/plain": [
       "<IPython.core.display.Image object>"
      ]
     },
     "metadata": {},
     "output_type": "display_data"
    }
   ],
   "source": [
    "# let's check that everything works as expected... (you might want to change max_size at training time...)\n",
    "emoji = \"🚀\" # insert your favourite emoji here\n",
    "img = load_emoji(emoji, max_size=90)\n",
    "\n",
    "imshow(zoom(img, 2))"
   ]
  },
  {
   "cell_type": "markdown",
   "metadata": {},
   "source": [
    "## Model definition"
   ]
  },
  {
   "cell_type": "markdown",
   "metadata": {},
   "source": [
    "It's a good idea to define model hyperparameters in a separate cell for easy access. The cell below serves precisely this purpose."
   ]
  },
  {
   "cell_type": "code",
   "execution_count": 16,
   "metadata": {},
   "outputs": [],
   "source": [
    "CHANNEL_N = 10 # number of CA state channels\n",
    "TARGET_PADDING = 12 # number of pixels used to pad the target image border\n",
    "TARGET_SIZE = 10\n",
    "BATCH_SIZE = 8\n",
    "POOL_SIZE = 128\n",
    "CELL_FIRE_RATE = 0.5\n",
    "\n",
    "TARGET_EMOJI = \"🔴\""
   ]
  },
  {
   "cell_type": "code",
   "execution_count": 17,
   "metadata": {},
   "outputs": [],
   "source": [
    "# useful function to return a bitmask denoting all the cells which are still alive\n",
    "def get_living_mask(x):\n",
    "  alpha = x[:, :, :, 1:2]\n",
    "  return tf.nn.max_pool2d(alpha, 3, [1, 1, 1, 1], 'SAME') > 0.1"
   ]
  },
  {
   "cell_type": "markdown",
   "metadata": {},
   "source": [
    "The procedure for NCA operation is quite simple:\n",
    "\n",
    "1. We first calculate a living bitmask, which tells us which cells to update and which to leave unchanged (remember that the operations of CAs need to be ***local**)\n",
    "2. Perception is done by a convolution over the grid with a predetermined Sobel filter (plus a rotation matrix, for invariance), mimicking the operation of chemical gradients in biological cells\n",
    "3. The perception vector passes through a simple ConvNet of circa 5K parameters with ReLU activation\n",
    "4. The update to each gets applied stochastically, to break synchronisation (self-organising systems shouldn't rely on global synchronisation, after all)\n",
    "5. We make sure that dead cells don't contribute to the update, and finally apply it to each cell."
   ]
  },
  {
   "cell_type": "code",
   "execution_count": 18,
   "metadata": {},
   "outputs": [],
   "source": [
    "class CAModel(tf.keras.Model):\n",
    "  def __init__(self, channel_n=CHANNEL_N, fire_rate=CELL_FIRE_RATE):\n",
    "    super().__init__()\n",
    "    self.channel_n = channel_n\n",
    "    self.fire_rate = fire_rate\n",
    "\n",
    "    self.dmodel = tf.keras.Sequential([\n",
    "          Conv2D(128, 1, activation=tf.nn.relu),\n",
    "          Conv2D(self.channel_n, 1, activation=None,\n",
    "              kernel_initializer=tf.zeros_initializer),\n",
    "    ])\n",
    "\n",
    "    self(tf.zeros([1, 3, 3, channel_n])) # dummy call to build the model\n",
    "\n",
    "  @tf.function\n",
    "  def perceive(self, x, angle=0.0):\n",
    "    identify = np.float32([0, 1, 0])\n",
    "    identify = np.outer(identify, identify)\n",
    "    dx = np.outer([1, 2, 1], [-1, 0, 1]) / 8.0 # Sobel filter\n",
    "    dy = dx.T\n",
    "    c, s = tf.cos(angle), tf.sin(angle)\n",
    "    kernel = tf.stack([identify, c*dx-s*dy, s*dx+c*dy], -1)[:, :, None, :]\n",
    "    kernel = tf.repeat(kernel, self.channel_n, 2)\n",
    "\n",
    "    y = tf.nn.depthwise_conv2d(x, kernel, [1, 1, 1, 1], 'SAME')\n",
    "    return y\n",
    "\n",
    "  @tf.function\n",
    "  def call(self, x, fire_rate=None, angle=0.0, step_size=1.0):\n",
    "    pre_life_mask = get_living_mask(x)\n",
    "\n",
    "    y = self.perceive(x, angle)\n",
    "    dx = self.dmodel(y)*step_size\n",
    "    if fire_rate is None:\n",
    "      fire_rate = self.fire_rate\n",
    "    update_mask = tf.random.uniform(tf.shape(x[:, :, :, :1])) <= fire_rate\n",
    "    x += dx * tf.cast(update_mask, tf.float32)\n",
    "\n",
    "    post_life_mask = get_living_mask(x)\n",
    "    life_mask = pre_life_mask & post_life_mask\n",
    "    return x * tf.cast(life_mask, tf.float32)"
   ]
  },
  {
   "cell_type": "code",
   "execution_count": 19,
   "metadata": {},
   "outputs": [
    {
     "name": "stdout",
     "output_type": "stream",
     "text": [
      "Model: \"sequential_2\"\n",
      "_________________________________________________________________\n",
      " Layer (type)                Output Shape              Param #   \n",
      "=================================================================\n",
      " conv2d_4 (Conv2D)           (1, 3, 3, 128)            3968      \n",
      "                                                                 \n",
      " conv2d_5 (Conv2D)           (1, 3, 3, 10)             1290      \n",
      "                                                                 \n",
      "=================================================================\n",
      "Total params: 5258 (20.54 KB)\n",
      "Trainable params: 5258 (20.54 KB)\n",
      "Non-trainable params: 0 (0.00 Byte)\n",
      "_________________________________________________________________\n"
     ]
    },
    {
     "name": "stderr",
     "output_type": "stream",
     "text": [
      "2023-11-18 17:22:37.353903: I tensorflow/core/grappler/optimizers/custom_graph_optimizer_registry.cc:114] Plugin optimizer for device_type GPU is enabled.\n"
     ]
    }
   ],
   "source": [
    "CAModel().dmodel.summary()"
   ]
  },
  {
   "cell_type": "markdown",
   "metadata": {},
   "source": [
    "## Training"
   ]
  },
  {
   "cell_type": "markdown",
   "metadata": {},
   "source": [
    "### Preparation code"
   ]
  },
  {
   "cell_type": "markdown",
   "metadata": {},
   "source": [
    "We build a pool from which to extract starting states at each iteration. This is necessary for persistence: without this trick we get NCAs that grow to the target pattern, mantain it for a while, then continue growing ad infinitum!"
   ]
  },
  {
   "cell_type": "code",
   "execution_count": 20,
   "metadata": {},
   "outputs": [],
   "source": [
    "class SamplePool:\n",
    "  def __init__(self, *, _parent=None, _parent_idx=None, **slots):\n",
    "    self._parent = _parent\n",
    "    self._parent_idx = _parent_idx\n",
    "    self._slot_names = slots.keys()\n",
    "    self._size = None\n",
    "    for k, v in slots.items():\n",
    "      if self._size is None:\n",
    "        self._size = len(v)\n",
    "      assert self._size == len(v)\n",
    "      setattr(self, k, np.asarray(v))\n",
    "\n",
    "  def sample(self, n):\n",
    "    idx = np.random.choice(self._size, n, False)\n",
    "    batch = {k: getattr(self, k)[idx] for k in self._slot_names}\n",
    "    batch = SamplePool(**batch, _parent=self, _parent_idx=idx)\n",
    "    return batch\n",
    "\n",
    "  def commit(self):\n",
    "    for k in self._slot_names:\n",
    "      getattr(self._parent, k)[self._parent_idx] = getattr(self, k)"
   ]
  },
  {
   "cell_type": "code",
   "execution_count": 21,
   "metadata": {},
   "outputs": [],
   "source": [
    "def generate_pool_figures(pool, step_i):\n",
    "  tiled_pool = tile2d(pool.x[:49, :, :, :1])\n",
    "  ones = np.ones(72)\n",
    "  tiled_pool[:, :72] += (-tiled_pool[:, :72] + ones[None, :])\n",
    "  tiled_pool[:, -72:] += (-tiled_pool[:, -72:] + ones[None, :])\n",
    "  tiled_pool[:72, :] += (-tiled_pool[:72, :] + ones[:, None])\n",
    "  tiled_pool[-72:, :] += (-tiled_pool[-72:, :] + ones[:, None])\n",
    "  imwrite('train_log/%04d_pool.jpg' % step_i, tiled_pool)\n",
    "\n",
    "def visualize_batch(x0, x, step_i):\n",
    "  vis0 = np.hstack(x0[..., :1])\n",
    "  vis1 = np.hstack(x[..., :1])\n",
    "  vis = np.vstack([vis0, vis1])\n",
    "  vis = np.squeeze(vis, axis=-1) # for imwrite and imshow\n",
    "  imwrite('train_log/batches_%04d.jpg' % step_i, vis)\n",
    "  print('batch (before/after):')\n",
    "  imshow(vis)\n",
    "\n",
    "def loss_f(x, target):\n",
    "  return tf.reduce_mean(tf.square(to_la(x) - target), [-2, -3, -1])\n",
    "\n",
    "def plot_loss(loss_log):\n",
    "  pl.figure(figsize=(10, 4))\n",
    "  pl.title('Loss history (log10)')\n",
    "  pl.plot(np.log10(loss_log), '.', alpha=0.5)\n",
    "  pl.show()"
   ]
  },
  {
   "cell_type": "markdown",
   "metadata": {},
   "source": [
    "All that's left to do is to load the target emoji and instantiate the model."
   ]
  },
  {
   "cell_type": "code",
   "execution_count": 22,
   "metadata": {},
   "outputs": [
    {
     "data": {
      "image/png": "[encoded data removed]",
      "text/plain": [
       "<IPython.core.display.Image object>"
      ]
     },
     "metadata": {},
     "output_type": "display_data"
    }
   ],
   "source": [
    "target_img = add_alpha(load_emoji(TARGET_EMOJI, max_size=TARGET_SIZE))\n",
    "\n",
    "imshow(zoom(target_img, 2), fmt='png')"
   ]
  },
  {
   "cell_type": "code",
   "execution_count": 23,
   "metadata": {},
   "outputs": [],
   "source": [
    "p = TARGET_PADDING\n",
    "pad_target = tf.pad(target_img, [(p, p), (p, p), (0, 0)])\n",
    "h, w = pad_target.shape[:2]\n",
    "\n",
    "seed = np.zeros([h, w, CHANNEL_N], np.float32)\n",
    "seed[h // 2, w // 2, 0] = 1.0  # for the grayscale channel\n",
    "seed[h // 2, w // 2, 1:] = 1.0"
   ]
  },
  {
   "cell_type": "markdown",
   "metadata": {},
   "source": [
    "Let's instantiate our model and loss and wrap up the preparations!"
   ]
  },
  {
   "cell_type": "code",
   "execution_count": 24,
   "metadata": {},
   "outputs": [
    {
     "name": "stderr",
     "output_type": "stream",
     "text": [
      "2023-11-18 17:22:43.745888: I tensorflow/core/grappler/optimizers/custom_graph_optimizer_registry.cc:114] Plugin optimizer for device_type GPU is enabled.\n"
     ]
    }
   ],
   "source": [
    "ca = CAModel()\n",
    "\n",
    "loss_log = []\n",
    "\n",
    "lr = 2e-3\n",
    "lr_sched = tf.keras.optimizers.schedules.PiecewiseConstantDecay(\n",
    "    [2000], [lr, lr*0.1])\n",
    "trainer = tf.keras.optimizers.legacy.RMSprop(lr_sched)\n",
    "\n",
    "loss0 = loss_f(seed, pad_target).numpy()\n",
    "pool = SamplePool(x=np.repeat(seed[None, ...], POOL_SIZE, 0))"
   ]
  },
  {
   "cell_type": "code",
   "execution_count": 26,
   "metadata": {},
   "outputs": [
    {
     "name": "stdout",
     "output_type": "stream",
     "text": [
      "zsh:1: no matches found: train_log/*\n"
     ]
    }
   ],
   "source": [
    "!mkdir -p train_log && rm -f train_log/* # we'll use it to store the current logs"
   ]
  },
  {
   "cell_type": "markdown",
   "metadata": {},
   "source": [
    "### Train!"
   ]
  },
  {
   "cell_type": "code",
   "execution_count": 27,
   "metadata": {},
   "outputs": [
    {
     "name": "stderr",
     "output_type": "stream",
     "text": [
      "2023-11-18 17:25:41.709544: I tensorflow/core/grappler/optimizers/custom_graph_optimizer_registry.cc:114] Plugin optimizer for device_type GPU is enabled.\n"
     ]
    }
   ],
   "source": [
    "@tf.function\n",
    "def train_step(x):\n",
    "  iter_n = tf.random.uniform([], 64, 96, tf.int32)\n",
    "  with tf.GradientTape() as g:\n",
    "    for i in tf.range(iter_n):\n",
    "      x = ca(x)\n",
    "    loss = tf.reduce_mean(loss_f(x, pad_target))\n",
    "  grads = g.gradient(loss, ca.weights)\n",
    "  grads = [g/(tf.norm(g)+1e-8) for g in grads]\n",
    "  trainer.apply_gradients(zip(grads, ca.weights))\n",
    "  return x, loss\n",
    "\n",
    "for i in range(8000+1):\n",
    "  batch = pool.sample(BATCH_SIZE)\n",
    "  x0 = batch.x\n",
    "  loss_rank = loss_f(x0, pad_target).numpy().argsort()[::-1]\n",
    "  x0 = x0[loss_rank]\n",
    "  x0[:1] = seed\n",
    "\n",
    "  x, loss = train_step(x0)\n",
    "\n",
    "  batch.x[:] = x\n",
    "  batch.commit()\n",
    "\n",
    "  step_i = len(loss_log)\n",
    "  loss_log.append(loss.numpy())\n",
    "  \n",
    "  if step_i % 10 == 0:\n",
    "    generate_pool_figures(pool, step_i)\n",
    "\n",
    "  if step_i % 10 == 0:\n",
    "    clear_output()\n",
    "    visualize_batch(x0, x, step_i)\n",
    "    plot_loss(loss_log)\n",
    "\n",
    "  print('\\r step: %d, log10(loss): %.3f' % (len(loss_log), np.log10(loss)), end='')"
   ]
  },
  {
   "cell_type": "code",
   "execution_count": null,
   "metadata": {},
   "outputs": [],
   "source": []
  }
 ],
 "metadata": {
  "kernelspec": {
   "display_name": "project",
   "language": "python",
   "name": "python3"
  },
  "language_info": {
   "codemirror_mode": {
    "name": "ipython",
    "version": 3
   },
   "file_extension": ".py",
   "mimetype": "text/x-python",
   "name": "python",
   "nbconvert_exporter": "python",
   "pygments_lexer": "ipython3",
   "version": "3.11.6"
  },
  "orig_nbformat": 4
 },
 "nbformat": 4,
 "nbformat_minor": 2
}
